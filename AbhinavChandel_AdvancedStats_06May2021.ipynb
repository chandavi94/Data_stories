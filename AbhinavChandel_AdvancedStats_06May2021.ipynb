{
 "cells": [
  {
   "cell_type": "code",
   "execution_count": 1,
   "metadata": {},
   "outputs": [],
   "source": [
    "import pandas as pd\n",
    "import numpy as np\n",
    "import matplotlib.pyplot as plt\n",
    "import seaborn as sns\n",
    "from sklearn.decomposition import PCA\n",
    "from sklearn.preprocessing import StandardScaler"
   ]
  },
  {
   "cell_type": "code",
   "execution_count": 2,
   "metadata": {},
   "outputs": [],
   "source": [
    "salary = pd.read_csv(\"SalaryData.csv\")"
   ]
  },
  {
   "cell_type": "code",
   "execution_count": 3,
   "metadata": {},
   "outputs": [
    {
     "data": {
      "text/html": [
       "<div>\n",
       "<style scoped>\n",
       "    .dataframe tbody tr th:only-of-type {\n",
       "        vertical-align: middle;\n",
       "    }\n",
       "\n",
       "    .dataframe tbody tr th {\n",
       "        vertical-align: top;\n",
       "    }\n",
       "\n",
       "    .dataframe thead th {\n",
       "        text-align: right;\n",
       "    }\n",
       "</style>\n",
       "<table border=\"1\" class=\"dataframe\">\n",
       "  <thead>\n",
       "    <tr style=\"text-align: right;\">\n",
       "      <th></th>\n",
       "      <th>Education</th>\n",
       "      <th>Occupation</th>\n",
       "      <th>Salary</th>\n",
       "    </tr>\n",
       "  </thead>\n",
       "  <tbody>\n",
       "    <tr>\n",
       "      <th>0</th>\n",
       "      <td>Doctorate</td>\n",
       "      <td>Adm-clerical</td>\n",
       "      <td>153197</td>\n",
       "    </tr>\n",
       "    <tr>\n",
       "      <th>1</th>\n",
       "      <td>Doctorate</td>\n",
       "      <td>Adm-clerical</td>\n",
       "      <td>115945</td>\n",
       "    </tr>\n",
       "    <tr>\n",
       "      <th>2</th>\n",
       "      <td>Doctorate</td>\n",
       "      <td>Adm-clerical</td>\n",
       "      <td>175935</td>\n",
       "    </tr>\n",
       "    <tr>\n",
       "      <th>3</th>\n",
       "      <td>Doctorate</td>\n",
       "      <td>Adm-clerical</td>\n",
       "      <td>220754</td>\n",
       "    </tr>\n",
       "    <tr>\n",
       "      <th>4</th>\n",
       "      <td>Doctorate</td>\n",
       "      <td>Sales</td>\n",
       "      <td>170769</td>\n",
       "    </tr>\n",
       "    <tr>\n",
       "      <th>5</th>\n",
       "      <td>Doctorate</td>\n",
       "      <td>Sales</td>\n",
       "      <td>219420</td>\n",
       "    </tr>\n",
       "    <tr>\n",
       "      <th>6</th>\n",
       "      <td>Doctorate</td>\n",
       "      <td>Sales</td>\n",
       "      <td>237920</td>\n",
       "    </tr>\n",
       "    <tr>\n",
       "      <th>7</th>\n",
       "      <td>Doctorate</td>\n",
       "      <td>Sales</td>\n",
       "      <td>160540</td>\n",
       "    </tr>\n",
       "    <tr>\n",
       "      <th>8</th>\n",
       "      <td>Doctorate</td>\n",
       "      <td>Sales</td>\n",
       "      <td>180934</td>\n",
       "    </tr>\n",
       "    <tr>\n",
       "      <th>9</th>\n",
       "      <td>Doctorate</td>\n",
       "      <td>Prof-specialty</td>\n",
       "      <td>248156</td>\n",
       "    </tr>\n",
       "  </tbody>\n",
       "</table>\n",
       "</div>"
      ],
      "text/plain": [
       "    Education       Occupation  Salary\n",
       "0   Doctorate     Adm-clerical  153197\n",
       "1   Doctorate     Adm-clerical  115945\n",
       "2   Doctorate     Adm-clerical  175935\n",
       "3   Doctorate     Adm-clerical  220754\n",
       "4   Doctorate            Sales  170769\n",
       "5   Doctorate            Sales  219420\n",
       "6   Doctorate            Sales  237920\n",
       "7   Doctorate            Sales  160540\n",
       "8   Doctorate            Sales  180934\n",
       "9   Doctorate   Prof-specialty  248156"
      ]
     },
     "execution_count": 3,
     "metadata": {},
     "output_type": "execute_result"
    }
   ],
   "source": [
    "salary.head(10)"
   ]
  },
  {
   "cell_type": "code",
   "execution_count": 4,
   "metadata": {},
   "outputs": [
    {
     "data": {
      "text/html": [
       "<div>\n",
       "<style scoped>\n",
       "    .dataframe tbody tr th:only-of-type {\n",
       "        vertical-align: middle;\n",
       "    }\n",
       "\n",
       "    .dataframe tbody tr th {\n",
       "        vertical-align: top;\n",
       "    }\n",
       "\n",
       "    .dataframe thead th {\n",
       "        text-align: right;\n",
       "    }\n",
       "</style>\n",
       "<table border=\"1\" class=\"dataframe\">\n",
       "  <thead>\n",
       "    <tr style=\"text-align: right;\">\n",
       "      <th></th>\n",
       "      <th>count</th>\n",
       "      <th>unique</th>\n",
       "      <th>top</th>\n",
       "      <th>freq</th>\n",
       "      <th>mean</th>\n",
       "      <th>std</th>\n",
       "      <th>min</th>\n",
       "      <th>25%</th>\n",
       "      <th>50%</th>\n",
       "      <th>75%</th>\n",
       "      <th>max</th>\n",
       "    </tr>\n",
       "  </thead>\n",
       "  <tbody>\n",
       "    <tr>\n",
       "      <th>Education</th>\n",
       "      <td>40</td>\n",
       "      <td>3</td>\n",
       "      <td>Doctorate</td>\n",
       "      <td>16</td>\n",
       "      <td>NaN</td>\n",
       "      <td>NaN</td>\n",
       "      <td>NaN</td>\n",
       "      <td>NaN</td>\n",
       "      <td>NaN</td>\n",
       "      <td>NaN</td>\n",
       "      <td>NaN</td>\n",
       "    </tr>\n",
       "    <tr>\n",
       "      <th>Occupation</th>\n",
       "      <td>40</td>\n",
       "      <td>4</td>\n",
       "      <td>Prof-specialty</td>\n",
       "      <td>13</td>\n",
       "      <td>NaN</td>\n",
       "      <td>NaN</td>\n",
       "      <td>NaN</td>\n",
       "      <td>NaN</td>\n",
       "      <td>NaN</td>\n",
       "      <td>NaN</td>\n",
       "      <td>NaN</td>\n",
       "    </tr>\n",
       "    <tr>\n",
       "      <th>Salary</th>\n",
       "      <td>40</td>\n",
       "      <td>NaN</td>\n",
       "      <td>NaN</td>\n",
       "      <td>NaN</td>\n",
       "      <td>162187</td>\n",
       "      <td>64860.4</td>\n",
       "      <td>50103</td>\n",
       "      <td>99897.5</td>\n",
       "      <td>169100</td>\n",
       "      <td>214441</td>\n",
       "      <td>260151</td>\n",
       "    </tr>\n",
       "  </tbody>\n",
       "</table>\n",
       "</div>"
      ],
      "text/plain": [
       "           count unique              top freq    mean      std    min  \\\n",
       "Education     40      3        Doctorate   16     NaN      NaN    NaN   \n",
       "Occupation    40      4   Prof-specialty   13     NaN      NaN    NaN   \n",
       "Salary        40    NaN              NaN  NaN  162187  64860.4  50103   \n",
       "\n",
       "                25%     50%     75%     max  \n",
       "Education       NaN     NaN     NaN     NaN  \n",
       "Occupation      NaN     NaN     NaN     NaN  \n",
       "Salary      99897.5  169100  214441  260151  "
      ]
     },
     "execution_count": 4,
     "metadata": {},
     "output_type": "execute_result"
    }
   ],
   "source": [
    "salary.describe(include='all').T"
   ]
  },
  {
   "cell_type": "code",
   "execution_count": 5,
   "metadata": {},
   "outputs": [
    {
     "name": "stdout",
     "output_type": "stream",
     "text": [
      "<class 'pandas.core.frame.DataFrame'>\n",
      "RangeIndex: 40 entries, 0 to 39\n",
      "Data columns (total 3 columns):\n",
      " #   Column      Non-Null Count  Dtype \n",
      "---  ------      --------------  ----- \n",
      " 0   Education   40 non-null     object\n",
      " 1   Occupation  40 non-null     object\n",
      " 2   Salary      40 non-null     int64 \n",
      "dtypes: int64(1), object(2)\n",
      "memory usage: 1.1+ KB\n"
     ]
    }
   ],
   "source": [
    "salary.info()"
   ]
  },
  {
   "cell_type": "code",
   "execution_count": 6,
   "metadata": {},
   "outputs": [
    {
     "data": {
      "text/plain": [
       "Education     0\n",
       "Occupation    0\n",
       "Salary        0\n",
       "dtype: int64"
      ]
     },
     "execution_count": 6,
     "metadata": {},
     "output_type": "execute_result"
    }
   ],
   "source": [
    "salary.isna().sum()"
   ]
  },
  {
   "cell_type": "code",
   "execution_count": 7,
   "metadata": {},
   "outputs": [
    {
     "name": "stdout",
     "output_type": "stream",
     "text": [
      "No. of duplicated rows = 0\n"
     ]
    }
   ],
   "source": [
    "dup_sal = salary.duplicated().sum()\n",
    "print(\"No. of duplicated rows =\", dup_sal)"
   ]
  },
  {
   "cell_type": "code",
   "execution_count": 8,
   "metadata": {},
   "outputs": [
    {
     "data": {
      "text/plain": [
       "(40, 3)"
      ]
     },
     "execution_count": 8,
     "metadata": {},
     "output_type": "execute_result"
    }
   ],
   "source": [
    "salary.shape"
   ]
  },
  {
   "cell_type": "markdown",
   "metadata": {},
   "source": [
    "H0: The mean Salary is same for all every type of education\n",
    "\n",
    "H1: The mean salary is not same for all types of education"
   ]
  },
  {
   "cell_type": "markdown",
   "metadata": {},
   "source": [
    "H0: The mean salary is same for people having different occupations\n",
    "\n",
    "H1: The mean salary is not same for all people having different occupations"
   ]
  },
  {
   "cell_type": "code",
   "execution_count": 9,
   "metadata": {},
   "outputs": [],
   "source": [
    "from statsmodels.formula.api import ols\n",
    "from statsmodels.stats.anova import _get_covariance,anova_lm "
   ]
  },
  {
   "cell_type": "code",
   "execution_count": 10,
   "metadata": {},
   "outputs": [
    {
     "data": {
      "text/html": [
       "<div>\n",
       "<style scoped>\n",
       "    .dataframe tbody tr th:only-of-type {\n",
       "        vertical-align: middle;\n",
       "    }\n",
       "\n",
       "    .dataframe tbody tr th {\n",
       "        vertical-align: top;\n",
       "    }\n",
       "\n",
       "    .dataframe thead th {\n",
       "        text-align: right;\n",
       "    }\n",
       "</style>\n",
       "<table border=\"1\" class=\"dataframe\">\n",
       "  <thead>\n",
       "    <tr style=\"text-align: right;\">\n",
       "      <th></th>\n",
       "      <th>df</th>\n",
       "      <th>sum_sq</th>\n",
       "      <th>mean_sq</th>\n",
       "      <th>F</th>\n",
       "      <th>PR(&gt;F)</th>\n",
       "    </tr>\n",
       "  </thead>\n",
       "  <tbody>\n",
       "    <tr>\n",
       "      <th>C(Education)</th>\n",
       "      <td>2.0</td>\n",
       "      <td>1.026955e+11</td>\n",
       "      <td>5.134773e+10</td>\n",
       "      <td>30.95628</td>\n",
       "      <td>1.257709e-08</td>\n",
       "    </tr>\n",
       "    <tr>\n",
       "      <th>Residual</th>\n",
       "      <td>37.0</td>\n",
       "      <td>6.137256e+10</td>\n",
       "      <td>1.658718e+09</td>\n",
       "      <td>NaN</td>\n",
       "      <td>NaN</td>\n",
       "    </tr>\n",
       "  </tbody>\n",
       "</table>\n",
       "</div>"
      ],
      "text/plain": [
       "                df        sum_sq       mean_sq         F        PR(>F)\n",
       "C(Education)   2.0  1.026955e+11  5.134773e+10  30.95628  1.257709e-08\n",
       "Residual      37.0  6.137256e+10  1.658718e+09       NaN           NaN"
      ]
     },
     "execution_count": 10,
     "metadata": {},
     "output_type": "execute_result"
    }
   ],
   "source": [
    "formula = 'Salary ~ C(Education)'\n",
    "model = ols(formula, salary).fit()\n",
    "aov_table = anova_lm(model)\n",
    "(aov_table)"
   ]
  },
  {
   "cell_type": "code",
   "execution_count": 11,
   "metadata": {},
   "outputs": [
    {
     "data": {
      "text/html": [
       "<div>\n",
       "<style scoped>\n",
       "    .dataframe tbody tr th:only-of-type {\n",
       "        vertical-align: middle;\n",
       "    }\n",
       "\n",
       "    .dataframe tbody tr th {\n",
       "        vertical-align: top;\n",
       "    }\n",
       "\n",
       "    .dataframe thead th {\n",
       "        text-align: right;\n",
       "    }\n",
       "</style>\n",
       "<table border=\"1\" class=\"dataframe\">\n",
       "  <thead>\n",
       "    <tr style=\"text-align: right;\">\n",
       "      <th></th>\n",
       "      <th>df</th>\n",
       "      <th>sum_sq</th>\n",
       "      <th>mean_sq</th>\n",
       "      <th>F</th>\n",
       "      <th>PR(&gt;F)</th>\n",
       "    </tr>\n",
       "  </thead>\n",
       "  <tbody>\n",
       "    <tr>\n",
       "      <th>C(Occupation)</th>\n",
       "      <td>3.0</td>\n",
       "      <td>1.125878e+10</td>\n",
       "      <td>3.752928e+09</td>\n",
       "      <td>2.914918e+29</td>\n",
       "      <td>0.0</td>\n",
       "    </tr>\n",
       "    <tr>\n",
       "      <th>Salary</th>\n",
       "      <td>1.0</td>\n",
       "      <td>1.528092e+11</td>\n",
       "      <td>1.528092e+11</td>\n",
       "      <td>1.186877e+31</td>\n",
       "      <td>0.0</td>\n",
       "    </tr>\n",
       "    <tr>\n",
       "      <th>Residual</th>\n",
       "      <td>35.0</td>\n",
       "      <td>4.506215e-19</td>\n",
       "      <td>1.287490e-20</td>\n",
       "      <td>NaN</td>\n",
       "      <td>NaN</td>\n",
       "    </tr>\n",
       "  </tbody>\n",
       "</table>\n",
       "</div>"
      ],
      "text/plain": [
       "                 df        sum_sq       mean_sq             F  PR(>F)\n",
       "C(Occupation)   3.0  1.125878e+10  3.752928e+09  2.914918e+29     0.0\n",
       "Salary          1.0  1.528092e+11  1.528092e+11  1.186877e+31     0.0\n",
       "Residual       35.0  4.506215e-19  1.287490e-20           NaN     NaN"
      ]
     },
     "execution_count": 11,
     "metadata": {},
     "output_type": "execute_result"
    }
   ],
   "source": [
    "formula = 'Salary ~ C(Occupation) + Salary'\n",
    "model = ols(formula, salary).fit()\n",
    "aov_table = anova_lm(model)\n",
    "(aov_table)"
   ]
  },
  {
   "cell_type": "code",
   "execution_count": 12,
   "metadata": {},
   "outputs": [
    {
     "data": {
      "text/html": [
       "<div>\n",
       "<style scoped>\n",
       "    .dataframe tbody tr th:only-of-type {\n",
       "        vertical-align: middle;\n",
       "    }\n",
       "\n",
       "    .dataframe tbody tr th {\n",
       "        vertical-align: top;\n",
       "    }\n",
       "\n",
       "    .dataframe thead th {\n",
       "        text-align: right;\n",
       "    }\n",
       "</style>\n",
       "<table border=\"1\" class=\"dataframe\">\n",
       "  <thead>\n",
       "    <tr style=\"text-align: right;\">\n",
       "      <th></th>\n",
       "      <th>df</th>\n",
       "      <th>sum_sq</th>\n",
       "      <th>mean_sq</th>\n",
       "      <th>F</th>\n",
       "      <th>PR(&gt;F)</th>\n",
       "    </tr>\n",
       "  </thead>\n",
       "  <tbody>\n",
       "    <tr>\n",
       "      <th>C(Occupation)</th>\n",
       "      <td>3.0</td>\n",
       "      <td>1.125878e+10</td>\n",
       "      <td>3.752928e+09</td>\n",
       "      <td>0.884144</td>\n",
       "      <td>0.458508</td>\n",
       "    </tr>\n",
       "    <tr>\n",
       "      <th>Residual</th>\n",
       "      <td>36.0</td>\n",
       "      <td>1.528092e+11</td>\n",
       "      <td>4.244701e+09</td>\n",
       "      <td>NaN</td>\n",
       "      <td>NaN</td>\n",
       "    </tr>\n",
       "  </tbody>\n",
       "</table>\n",
       "</div>"
      ],
      "text/plain": [
       "                 df        sum_sq       mean_sq         F    PR(>F)\n",
       "C(Occupation)   3.0  1.125878e+10  3.752928e+09  0.884144  0.458508\n",
       "Residual       36.0  1.528092e+11  4.244701e+09       NaN       NaN"
      ]
     },
     "execution_count": 12,
     "metadata": {},
     "output_type": "execute_result"
    }
   ],
   "source": [
    "formula = 'Salary ~ C(Occupation)'\n",
    "model = ols(formula, salary).fit()\n",
    "aov_table = anova_lm(model)\n",
    "(aov_table)"
   ]
  },
  {
   "cell_type": "code",
   "execution_count": 13,
   "metadata": {},
   "outputs": [
    {
     "data": {
      "text/html": [
       "<div>\n",
       "<style scoped>\n",
       "    .dataframe tbody tr th:only-of-type {\n",
       "        vertical-align: middle;\n",
       "    }\n",
       "\n",
       "    .dataframe tbody tr th {\n",
       "        vertical-align: top;\n",
       "    }\n",
       "\n",
       "    .dataframe thead th {\n",
       "        text-align: right;\n",
       "    }\n",
       "</style>\n",
       "<table border=\"1\" class=\"dataframe\">\n",
       "  <thead>\n",
       "    <tr style=\"text-align: right;\">\n",
       "      <th></th>\n",
       "      <th>df</th>\n",
       "      <th>sum_sq</th>\n",
       "      <th>mean_sq</th>\n",
       "      <th>F</th>\n",
       "      <th>PR(&gt;F)</th>\n",
       "    </tr>\n",
       "  </thead>\n",
       "  <tbody>\n",
       "    <tr>\n",
       "      <th>C(Occupation)</th>\n",
       "      <td>3.0</td>\n",
       "      <td>1.125878e+10</td>\n",
       "      <td>3.752928e+09</td>\n",
       "      <td>2.284576</td>\n",
       "      <td>9.648715e-02</td>\n",
       "    </tr>\n",
       "    <tr>\n",
       "      <th>C(Education)</th>\n",
       "      <td>2.0</td>\n",
       "      <td>9.695663e+10</td>\n",
       "      <td>4.847831e+10</td>\n",
       "      <td>29.510933</td>\n",
       "      <td>3.708479e-08</td>\n",
       "    </tr>\n",
       "    <tr>\n",
       "      <th>Residual</th>\n",
       "      <td>34.0</td>\n",
       "      <td>5.585261e+10</td>\n",
       "      <td>1.642724e+09</td>\n",
       "      <td>NaN</td>\n",
       "      <td>NaN</td>\n",
       "    </tr>\n",
       "  </tbody>\n",
       "</table>\n",
       "</div>"
      ],
      "text/plain": [
       "                 df        sum_sq       mean_sq          F        PR(>F)\n",
       "C(Occupation)   3.0  1.125878e+10  3.752928e+09   2.284576  9.648715e-02\n",
       "C(Education)    2.0  9.695663e+10  4.847831e+10  29.510933  3.708479e-08\n",
       "Residual       34.0  5.585261e+10  1.642724e+09        NaN           NaN"
      ]
     },
     "execution_count": 13,
     "metadata": {},
     "output_type": "execute_result"
    }
   ],
   "source": [
    "formula = 'Salary ~ C(Occupation) + C(Education)'\n",
    "model = ols(formula, salary).fit()\n",
    "aov_table = anova_lm(model)\n",
    "(aov_table)"
   ]
  },
  {
   "cell_type": "code",
   "execution_count": 14,
   "metadata": {},
   "outputs": [
    {
     "data": {
      "image/png": "[encoded data removed]",
      "text/plain": [
       "<Figure size 432x288 with 1 Axes>"
      ]
     },
     "metadata": {
      "needs_background": "light"
     },
     "output_type": "display_data"
    }
   ],
   "source": [
    "sns.pointplot(x='Education', y='Salary', data=salary, hue='Occupation',ci=None);"
   ]
  },
  {
   "cell_type": "code",
   "execution_count": 15,
   "metadata": {},
   "outputs": [
    {
     "data": {
      "image/png": "[encoded data removed]",
      "text/plain": [
       "<Figure size 432x288 with 1 Axes>"
      ]
     },
     "metadata": {
      "needs_background": "light"
     },
     "output_type": "display_data"
    }
   ],
   "source": [
    "sns.pointplot(x='Occupation', y='Salary', data=salary, hue='Education', ci=None);"
   ]
  },
  {
   "cell_type": "code",
   "execution_count": 16,
   "metadata": {},
   "outputs": [
    {
     "data": {
      "image/png": "[encoded data removed]",
      "text/plain": [
       "<Figure size 432x288 with 1 Axes>"
      ]
     },
     "metadata": {
      "needs_background": "light"
     },
     "output_type": "display_data"
    }
   ],
   "source": [
    "sns.pointplot(x='Occupation', y='Salary', data=salary, hue='Education');"
   ]
  },
  {
   "cell_type": "code",
   "execution_count": 17,
   "metadata": {},
   "outputs": [
    {
     "data": {
      "text/html": [
       "<div>\n",
       "<style scoped>\n",
       "    .dataframe tbody tr th:only-of-type {\n",
       "        vertical-align: middle;\n",
       "    }\n",
       "\n",
       "    .dataframe tbody tr th {\n",
       "        vertical-align: top;\n",
       "    }\n",
       "\n",
       "    .dataframe thead th {\n",
       "        text-align: right;\n",
       "    }\n",
       "</style>\n",
       "<table border=\"1\" class=\"dataframe\">\n",
       "  <thead>\n",
       "    <tr style=\"text-align: right;\">\n",
       "      <th></th>\n",
       "      <th>df</th>\n",
       "      <th>sum_sq</th>\n",
       "      <th>mean_sq</th>\n",
       "      <th>F</th>\n",
       "      <th>PR(&gt;F)</th>\n",
       "    </tr>\n",
       "  </thead>\n",
       "  <tbody>\n",
       "    <tr>\n",
       "      <th>C(Occupation)</th>\n",
       "      <td>3.0</td>\n",
       "      <td>1.125878e+10</td>\n",
       "      <td>3.752928e+09</td>\n",
       "      <td>5.277862</td>\n",
       "      <td>4.993238e-03</td>\n",
       "    </tr>\n",
       "    <tr>\n",
       "      <th>C(Education)</th>\n",
       "      <td>2.0</td>\n",
       "      <td>9.695663e+10</td>\n",
       "      <td>4.847831e+10</td>\n",
       "      <td>68.176603</td>\n",
       "      <td>1.090908e-11</td>\n",
       "    </tr>\n",
       "    <tr>\n",
       "      <th>C(Education):C(Occupation)</th>\n",
       "      <td>6.0</td>\n",
       "      <td>3.563950e+10</td>\n",
       "      <td>5.939916e+09</td>\n",
       "      <td>8.353494</td>\n",
       "      <td>2.643089e-05</td>\n",
       "    </tr>\n",
       "    <tr>\n",
       "      <th>Residual</th>\n",
       "      <td>29.0</td>\n",
       "      <td>2.062102e+10</td>\n",
       "      <td>7.110697e+08</td>\n",
       "      <td>NaN</td>\n",
       "      <td>NaN</td>\n",
       "    </tr>\n",
       "  </tbody>\n",
       "</table>\n",
       "</div>"
      ],
      "text/plain": [
       "                              df        sum_sq       mean_sq          F  \\\n",
       "C(Occupation)                3.0  1.125878e+10  3.752928e+09   5.277862   \n",
       "C(Education)                 2.0  9.695663e+10  4.847831e+10  68.176603   \n",
       "C(Education):C(Occupation)   6.0  3.563950e+10  5.939916e+09   8.353494   \n",
       "Residual                    29.0  2.062102e+10  7.110697e+08        NaN   \n",
       "\n",
       "                                  PR(>F)  \n",
       "C(Occupation)               4.993238e-03  \n",
       "C(Education)                1.090908e-11  \n",
       "C(Education):C(Occupation)  2.643089e-05  \n",
       "Residual                             NaN  "
      ]
     },
     "execution_count": 17,
     "metadata": {},
     "output_type": "execute_result"
    }
   ],
   "source": [
    "formula = 'Salary ~ C(Occupation) + C(Education) + C(Education):C(Occupation)'\n",
    "model = ols(formula, salary).fit()\n",
    "aov_table = anova_lm(model)\n",
    "(aov_table)"
   ]
  },
  {
   "cell_type": "code",
   "execution_count": 18,
   "metadata": {},
   "outputs": [
    {
     "data": {
      "text/html": [
       "<div>\n",
       "<style scoped>\n",
       "    .dataframe tbody tr th:only-of-type {\n",
       "        vertical-align: middle;\n",
       "    }\n",
       "\n",
       "    .dataframe tbody tr th {\n",
       "        vertical-align: top;\n",
       "    }\n",
       "\n",
       "    .dataframe thead th {\n",
       "        text-align: right;\n",
       "    }\n",
       "</style>\n",
       "<table border=\"1\" class=\"dataframe\">\n",
       "  <thead>\n",
       "    <tr style=\"text-align: right;\">\n",
       "      <th></th>\n",
       "      <th>df</th>\n",
       "      <th>sum_sq</th>\n",
       "      <th>mean_sq</th>\n",
       "      <th>F</th>\n",
       "      <th>PR(&gt;F)</th>\n",
       "    </tr>\n",
       "  </thead>\n",
       "  <tbody>\n",
       "    <tr>\n",
       "      <th>C(Education)</th>\n",
       "      <td>2.0</td>\n",
       "      <td>1.026955e+11</td>\n",
       "      <td>5.134773e+10</td>\n",
       "      <td>72.211958</td>\n",
       "      <td>5.466264e-12</td>\n",
       "    </tr>\n",
       "    <tr>\n",
       "      <th>C(Occupation)</th>\n",
       "      <td>3.0</td>\n",
       "      <td>5.519946e+09</td>\n",
       "      <td>1.839982e+09</td>\n",
       "      <td>2.587626</td>\n",
       "      <td>7.211580e-02</td>\n",
       "    </tr>\n",
       "    <tr>\n",
       "      <th>C(Education):C(Occupation)</th>\n",
       "      <td>6.0</td>\n",
       "      <td>3.634909e+10</td>\n",
       "      <td>6.058182e+09</td>\n",
       "      <td>8.519815</td>\n",
       "      <td>2.232500e-05</td>\n",
       "    </tr>\n",
       "    <tr>\n",
       "      <th>Residual</th>\n",
       "      <td>29.0</td>\n",
       "      <td>2.062102e+10</td>\n",
       "      <td>7.110697e+08</td>\n",
       "      <td>NaN</td>\n",
       "      <td>NaN</td>\n",
       "    </tr>\n",
       "  </tbody>\n",
       "</table>\n",
       "</div>"
      ],
      "text/plain": [
       "                              df        sum_sq       mean_sq          F  \\\n",
       "C(Education)                 2.0  1.026955e+11  5.134773e+10  72.211958   \n",
       "C(Occupation)                3.0  5.519946e+09  1.839982e+09   2.587626   \n",
       "C(Education):C(Occupation)   6.0  3.634909e+10  6.058182e+09   8.519815   \n",
       "Residual                    29.0  2.062102e+10  7.110697e+08        NaN   \n",
       "\n",
       "                                  PR(>F)  \n",
       "C(Education)                5.466264e-12  \n",
       "C(Occupation)               7.211580e-02  \n",
       "C(Education):C(Occupation)  2.232500e-05  \n",
       "Residual                             NaN  "
      ]
     },
     "execution_count": 18,
     "metadata": {},
     "output_type": "execute_result"
    }
   ],
   "source": [
    "formula = 'Salary ~ C(Education) + C(Occupation) + C(Education):C(Occupation)'\n",
    "model = ols(formula, salary).fit()\n",
    "aov_table = anova_lm(model)\n",
    "(aov_table)"
   ]
  },
  {
   "cell_type": "code",
   "execution_count": 19,
   "metadata": {},
   "outputs": [
    {
     "data": {
      "text/html": [
       "<div>\n",
       "<style scoped>\n",
       "    .dataframe tbody tr th:only-of-type {\n",
       "        vertical-align: middle;\n",
       "    }\n",
       "\n",
       "    .dataframe tbody tr th {\n",
       "        vertical-align: top;\n",
       "    }\n",
       "\n",
       "    .dataframe thead th {\n",
       "        text-align: right;\n",
       "    }\n",
       "</style>\n",
       "<table border=\"1\" class=\"dataframe\">\n",
       "  <thead>\n",
       "    <tr style=\"text-align: right;\">\n",
       "      <th></th>\n",
       "      <th>df</th>\n",
       "      <th>sum_sq</th>\n",
       "      <th>mean_sq</th>\n",
       "      <th>F</th>\n",
       "      <th>PR(&gt;F)</th>\n",
       "    </tr>\n",
       "  </thead>\n",
       "  <tbody>\n",
       "    <tr>\n",
       "      <th>C(Education)</th>\n",
       "      <td>2.0</td>\n",
       "      <td>1.026955e+11</td>\n",
       "      <td>5.134773e+10</td>\n",
       "      <td>31.257677</td>\n",
       "      <td>1.981539e-08</td>\n",
       "    </tr>\n",
       "    <tr>\n",
       "      <th>C(Occupation)</th>\n",
       "      <td>3.0</td>\n",
       "      <td>5.519946e+09</td>\n",
       "      <td>1.839982e+09</td>\n",
       "      <td>1.120080</td>\n",
       "      <td>3.545825e-01</td>\n",
       "    </tr>\n",
       "    <tr>\n",
       "      <th>Residual</th>\n",
       "      <td>34.0</td>\n",
       "      <td>5.585261e+10</td>\n",
       "      <td>1.642724e+09</td>\n",
       "      <td>NaN</td>\n",
       "      <td>NaN</td>\n",
       "    </tr>\n",
       "  </tbody>\n",
       "</table>\n",
       "</div>"
      ],
      "text/plain": [
       "                 df        sum_sq       mean_sq          F        PR(>F)\n",
       "C(Education)    2.0  1.026955e+11  5.134773e+10  31.257677  1.981539e-08\n",
       "C(Occupation)   3.0  5.519946e+09  1.839982e+09   1.120080  3.545825e-01\n",
       "Residual       34.0  5.585261e+10  1.642724e+09        NaN           NaN"
      ]
     },
     "execution_count": 19,
     "metadata": {},
     "output_type": "execute_result"
    }
   ],
   "source": [
    "formula = 'Salary ~ C(Education) + C(Occupation)'\n",
    "model = ols(formula, salary).fit()\n",
    "aov_table = anova_lm(model)\n",
    "(aov_table)"
   ]
  },
  {
   "cell_type": "code",
   "execution_count": 20,
   "metadata": {},
   "outputs": [],
   "source": [
    "edu = pd.read_csv(\"Education12th.csv\")"
   ]
  },
  {
   "cell_type": "code",
   "execution_count": 21,
   "metadata": {},
   "outputs": [
    {
     "data": {
      "text/html": [
       "<div>\n",
       "<style scoped>\n",
       "    .dataframe tbody tr th:only-of-type {\n",
       "        vertical-align: middle;\n",
       "    }\n",
       "\n",
       "    .dataframe tbody tr th {\n",
       "        vertical-align: top;\n",
       "    }\n",
       "\n",
       "    .dataframe thead th {\n",
       "        text-align: right;\n",
       "    }\n",
       "</style>\n",
       "<table border=\"1\" class=\"dataframe\">\n",
       "  <thead>\n",
       "    <tr style=\"text-align: right;\">\n",
       "      <th></th>\n",
       "      <th>Names</th>\n",
       "      <th>Apps</th>\n",
       "      <th>Accept</th>\n",
       "      <th>Enroll</th>\n",
       "      <th>Top10perc</th>\n",
       "      <th>Top25perc</th>\n",
       "      <th>F.Undergrad</th>\n",
       "      <th>P.Undergrad</th>\n",
       "      <th>Outstate</th>\n",
       "      <th>Room.Board</th>\n",
       "      <th>Books</th>\n",
       "      <th>Personal</th>\n",
       "      <th>PhD</th>\n",
       "      <th>Terminal</th>\n",
       "      <th>S.F.Ratio</th>\n",
       "      <th>perc.alumni</th>\n",
       "      <th>Expend</th>\n",
       "      <th>Grad.Rate</th>\n",
       "    </tr>\n",
       "  </thead>\n",
       "  <tbody>\n",
       "    <tr>\n",
       "      <th>0</th>\n",
       "      <td>Abilene Christian University</td>\n",
       "      <td>1660</td>\n",
       "      <td>1232</td>\n",
       "      <td>721</td>\n",
       "      <td>23</td>\n",
       "      <td>52</td>\n",
       "      <td>2885</td>\n",
       "      <td>537</td>\n",
       "      <td>7440</td>\n",
       "      <td>3300</td>\n",
       "      <td>450</td>\n",
       "      <td>2200</td>\n",
       "      <td>70</td>\n",
       "      <td>78</td>\n",
       "      <td>18.1</td>\n",
       "      <td>12</td>\n",
       "      <td>7041</td>\n",
       "      <td>60</td>\n",
       "    </tr>\n",
       "    <tr>\n",
       "      <th>1</th>\n",
       "      <td>Adelphi University</td>\n",
       "      <td>2186</td>\n",
       "      <td>1924</td>\n",
       "      <td>512</td>\n",
       "      <td>16</td>\n",
       "      <td>29</td>\n",
       "      <td>2683</td>\n",
       "      <td>1227</td>\n",
       "      <td>12280</td>\n",
       "      <td>6450</td>\n",
       "      <td>750</td>\n",
       "      <td>1500</td>\n",
       "      <td>29</td>\n",
       "      <td>30</td>\n",
       "      <td>12.2</td>\n",
       "      <td>16</td>\n",
       "      <td>10527</td>\n",
       "      <td>56</td>\n",
       "    </tr>\n",
       "    <tr>\n",
       "      <th>2</th>\n",
       "      <td>Adrian College</td>\n",
       "      <td>1428</td>\n",
       "      <td>1097</td>\n",
       "      <td>336</td>\n",
       "      <td>22</td>\n",
       "      <td>50</td>\n",
       "      <td>1036</td>\n",
       "      <td>99</td>\n",
       "      <td>11250</td>\n",
       "      <td>3750</td>\n",
       "      <td>400</td>\n",
       "      <td>1165</td>\n",
       "      <td>53</td>\n",
       "      <td>66</td>\n",
       "      <td>12.9</td>\n",
       "      <td>30</td>\n",
       "      <td>8735</td>\n",
       "      <td>54</td>\n",
       "    </tr>\n",
       "    <tr>\n",
       "      <th>3</th>\n",
       "      <td>Agnes Scott College</td>\n",
       "      <td>417</td>\n",
       "      <td>349</td>\n",
       "      <td>137</td>\n",
       "      <td>60</td>\n",
       "      <td>89</td>\n",
       "      <td>510</td>\n",
       "      <td>63</td>\n",
       "      <td>12960</td>\n",
       "      <td>5450</td>\n",
       "      <td>450</td>\n",
       "      <td>875</td>\n",
       "      <td>92</td>\n",
       "      <td>97</td>\n",
       "      <td>7.7</td>\n",
       "      <td>37</td>\n",
       "      <td>19016</td>\n",
       "      <td>59</td>\n",
       "    </tr>\n",
       "    <tr>\n",
       "      <th>4</th>\n",
       "      <td>Alaska Pacific University</td>\n",
       "      <td>193</td>\n",
       "      <td>146</td>\n",
       "      <td>55</td>\n",
       "      <td>16</td>\n",
       "      <td>44</td>\n",
       "      <td>249</td>\n",
       "      <td>869</td>\n",
       "      <td>7560</td>\n",
       "      <td>4120</td>\n",
       "      <td>800</td>\n",
       "      <td>1500</td>\n",
       "      <td>76</td>\n",
       "      <td>72</td>\n",
       "      <td>11.9</td>\n",
       "      <td>2</td>\n",
       "      <td>10922</td>\n",
       "      <td>15</td>\n",
       "    </tr>\n",
       "  </tbody>\n",
       "</table>\n",
       "</div>"
      ],
      "text/plain": [
       "                          Names  Apps  Accept  Enroll  Top10perc  Top25perc  \\\n",
       "0  Abilene Christian University  1660    1232     721         23         52   \n",
       "1            Adelphi University  2186    1924     512         16         29   \n",
       "2                Adrian College  1428    1097     336         22         50   \n",
       "3           Agnes Scott College   417     349     137         60         89   \n",
       "4     Alaska Pacific University   193     146      55         16         44   \n",
       "\n",
       "   F.Undergrad  P.Undergrad  Outstate  Room.Board  Books  Personal  PhD  \\\n",
       "0         2885          537      7440        3300    450      2200   70   \n",
       "1         2683         1227     12280        6450    750      1500   29   \n",
       "2         1036           99     11250        3750    400      1165   53   \n",
       "3          510           63     12960        5450    450       875   92   \n",
       "4          249          869      7560        4120    800      1500   76   \n",
       "\n",
       "   Terminal  S.F.Ratio  perc.alumni  Expend  Grad.Rate  \n",
       "0        78       18.1           12    7041         60  \n",
       "1        30       12.2           16   10527         56  \n",
       "2        66       12.9           30    8735         54  \n",
       "3        97        7.7           37   19016         59  \n",
       "4        72       11.9            2   10922         15  "
      ]
     },
     "execution_count": 21,
     "metadata": {},
     "output_type": "execute_result"
    }
   ],
   "source": [
    "edu.head()"
   ]
  },
  {
   "cell_type": "code",
   "execution_count": 22,
   "metadata": {},
   "outputs": [
    {
     "data": {
      "text/plain": [
       "(777, 18)"
      ]
     },
     "execution_count": 22,
     "metadata": {},
     "output_type": "execute_result"
    }
   ],
   "source": [
    "edu.shape"
   ]
  },
  {
   "cell_type": "code",
   "execution_count": 23,
   "metadata": {},
   "outputs": [
    {
     "name": "stdout",
     "output_type": "stream",
     "text": [
      "<class 'pandas.core.frame.DataFrame'>\n",
      "RangeIndex: 777 entries, 0 to 776\n",
      "Data columns (total 18 columns):\n",
      " #   Column       Non-Null Count  Dtype  \n",
      "---  ------       --------------  -----  \n",
      " 0   Names        777 non-null    object \n",
      " 1   Apps         777 non-null    int64  \n",
      " 2   Accept       777 non-null    int64  \n",
      " 3   Enroll       777 non-null    int64  \n",
      " 4   Top10perc    777 non-null    int64  \n",
      " 5   Top25perc    777 non-null    int64  \n",
      " 6   F.Undergrad  777 non-null    int64  \n",
      " 7   P.Undergrad  777 non-null    int64  \n",
      " 8   Outstate     777 non-null    int64  \n",
      " 9   Room.Board   777 non-null    int64  \n",
      " 10  Books        777 non-null    int64  \n",
      " 11  Personal     777 non-null    int64  \n",
      " 12  PhD          777 non-null    int64  \n",
      " 13  Terminal     777 non-null    int64  \n",
      " 14  S.F.Ratio    777 non-null    float64\n",
      " 15  perc.alumni  777 non-null    int64  \n",
      " 16  Expend       777 non-null    int64  \n",
      " 17  Grad.Rate    777 non-null    int64  \n",
      "dtypes: float64(1), int64(16), object(1)\n",
      "memory usage: 109.4+ KB\n"
     ]
    }
   ],
   "source": [
    "edu.info()"
   ]
  },
  {
   "cell_type": "code",
   "execution_count": 24,
   "metadata": {},
   "outputs": [
    {
     "data": {
      "text/plain": [
       "Names          0\n",
       "Apps           0\n",
       "Accept         0\n",
       "Enroll         0\n",
       "Top10perc      0\n",
       "Top25perc      0\n",
       "F.Undergrad    0\n",
       "P.Undergrad    0\n",
       "Outstate       0\n",
       "Room.Board     0\n",
       "Books          0\n",
       "Personal       0\n",
       "PhD            0\n",
       "Terminal       0\n",
       "S.F.Ratio      0\n",
       "perc.alumni    0\n",
       "Expend         0\n",
       "Grad.Rate      0\n",
       "dtype: int64"
      ]
     },
     "execution_count": 24,
     "metadata": {},
     "output_type": "execute_result"
    }
   ],
   "source": [
    "edu.isna().sum()"
   ]
  },
  {
   "cell_type": "code",
   "execution_count": 25,
   "metadata": {},
   "outputs": [
    {
     "name": "stdout",
     "output_type": "stream",
     "text": [
      "No. of duplicate rows are: 0\n"
     ]
    },
    {
     "data": {
      "text/plain": [
       "0"
      ]
     },
     "execution_count": 25,
     "metadata": {},
     "output_type": "execute_result"
    }
   ],
   "source": [
    "dups_edu = edu.duplicated().sum()\n",
    "print(\"No. of duplicate rows are:\",dups_edu)\n",
    "dups_edu"
   ]
  },
  {
   "cell_type": "code",
   "execution_count": 26,
   "metadata": {},
   "outputs": [
    {
     "data": {
      "text/html": [
       "<div>\n",
       "<style scoped>\n",
       "    .dataframe tbody tr th:only-of-type {\n",
       "        vertical-align: middle;\n",
       "    }\n",
       "\n",
       "    .dataframe tbody tr th {\n",
       "        vertical-align: top;\n",
       "    }\n",
       "\n",
       "    .dataframe thead th {\n",
       "        text-align: right;\n",
       "    }\n",
       "</style>\n",
       "<table border=\"1\" class=\"dataframe\">\n",
       "  <thead>\n",
       "    <tr style=\"text-align: right;\">\n",
       "      <th></th>\n",
       "      <th>count</th>\n",
       "      <th>mean</th>\n",
       "      <th>std</th>\n",
       "      <th>min</th>\n",
       "      <th>25%</th>\n",
       "      <th>50%</th>\n",
       "      <th>75%</th>\n",
       "      <th>max</th>\n",
       "    </tr>\n",
       "  </thead>\n",
       "  <tbody>\n",
       "    <tr>\n",
       "      <th>Apps</th>\n",
       "      <td>777.0</td>\n",
       "      <td>3001.638353</td>\n",
       "      <td>3870.201484</td>\n",
       "      <td>81.0</td>\n",
       "      <td>776.0</td>\n",
       "      <td>1558.0</td>\n",
       "      <td>3624.0</td>\n",
       "      <td>48094.0</td>\n",
       "    </tr>\n",
       "    <tr>\n",
       "      <th>Accept</th>\n",
       "      <td>777.0</td>\n",
       "      <td>2018.804376</td>\n",
       "      <td>2451.113971</td>\n",
       "      <td>72.0</td>\n",
       "      <td>604.0</td>\n",
       "      <td>1110.0</td>\n",
       "      <td>2424.0</td>\n",
       "      <td>26330.0</td>\n",
       "    </tr>\n",
       "    <tr>\n",
       "      <th>Enroll</th>\n",
       "      <td>777.0</td>\n",
       "      <td>779.972973</td>\n",
       "      <td>929.176190</td>\n",
       "      <td>35.0</td>\n",
       "      <td>242.0</td>\n",
       "      <td>434.0</td>\n",
       "      <td>902.0</td>\n",
       "      <td>6392.0</td>\n",
       "    </tr>\n",
       "    <tr>\n",
       "      <th>Top10perc</th>\n",
       "      <td>777.0</td>\n",
       "      <td>27.558559</td>\n",
       "      <td>17.640364</td>\n",
       "      <td>1.0</td>\n",
       "      <td>15.0</td>\n",
       "      <td>23.0</td>\n",
       "      <td>35.0</td>\n",
       "      <td>96.0</td>\n",
       "    </tr>\n",
       "    <tr>\n",
       "      <th>Top25perc</th>\n",
       "      <td>777.0</td>\n",
       "      <td>55.796654</td>\n",
       "      <td>19.804778</td>\n",
       "      <td>9.0</td>\n",
       "      <td>41.0</td>\n",
       "      <td>54.0</td>\n",
       "      <td>69.0</td>\n",
       "      <td>100.0</td>\n",
       "    </tr>\n",
       "    <tr>\n",
       "      <th>F.Undergrad</th>\n",
       "      <td>777.0</td>\n",
       "      <td>3699.907336</td>\n",
       "      <td>4850.420531</td>\n",
       "      <td>139.0</td>\n",
       "      <td>992.0</td>\n",
       "      <td>1707.0</td>\n",
       "      <td>4005.0</td>\n",
       "      <td>31643.0</td>\n",
       "    </tr>\n",
       "    <tr>\n",
       "      <th>P.Undergrad</th>\n",
       "      <td>777.0</td>\n",
       "      <td>855.298584</td>\n",
       "      <td>1522.431887</td>\n",
       "      <td>1.0</td>\n",
       "      <td>95.0</td>\n",
       "      <td>353.0</td>\n",
       "      <td>967.0</td>\n",
       "      <td>21836.0</td>\n",
       "    </tr>\n",
       "    <tr>\n",
       "      <th>Outstate</th>\n",
       "      <td>777.0</td>\n",
       "      <td>10440.669241</td>\n",
       "      <td>4023.016484</td>\n",
       "      <td>2340.0</td>\n",
       "      <td>7320.0</td>\n",
       "      <td>9990.0</td>\n",
       "      <td>12925.0</td>\n",
       "      <td>21700.0</td>\n",
       "    </tr>\n",
       "    <tr>\n",
       "      <th>Room.Board</th>\n",
       "      <td>777.0</td>\n",
       "      <td>4357.526384</td>\n",
       "      <td>1096.696416</td>\n",
       "      <td>1780.0</td>\n",
       "      <td>3597.0</td>\n",
       "      <td>4200.0</td>\n",
       "      <td>5050.0</td>\n",
       "      <td>8124.0</td>\n",
       "    </tr>\n",
       "    <tr>\n",
       "      <th>Books</th>\n",
       "      <td>777.0</td>\n",
       "      <td>549.380952</td>\n",
       "      <td>165.105360</td>\n",
       "      <td>96.0</td>\n",
       "      <td>470.0</td>\n",
       "      <td>500.0</td>\n",
       "      <td>600.0</td>\n",
       "      <td>2340.0</td>\n",
       "    </tr>\n",
       "    <tr>\n",
       "      <th>Personal</th>\n",
       "      <td>777.0</td>\n",
       "      <td>1340.642214</td>\n",
       "      <td>677.071454</td>\n",
       "      <td>250.0</td>\n",
       "      <td>850.0</td>\n",
       "      <td>1200.0</td>\n",
       "      <td>1700.0</td>\n",
       "      <td>6800.0</td>\n",
       "    </tr>\n",
       "    <tr>\n",
       "      <th>PhD</th>\n",
       "      <td>777.0</td>\n",
       "      <td>72.660232</td>\n",
       "      <td>16.328155</td>\n",
       "      <td>8.0</td>\n",
       "      <td>62.0</td>\n",
       "      <td>75.0</td>\n",
       "      <td>85.0</td>\n",
       "      <td>103.0</td>\n",
       "    </tr>\n",
       "    <tr>\n",
       "      <th>Terminal</th>\n",
       "      <td>777.0</td>\n",
       "      <td>79.702703</td>\n",
       "      <td>14.722359</td>\n",
       "      <td>24.0</td>\n",
       "      <td>71.0</td>\n",
       "      <td>82.0</td>\n",
       "      <td>92.0</td>\n",
       "      <td>100.0</td>\n",
       "    </tr>\n",
       "    <tr>\n",
       "      <th>S.F.Ratio</th>\n",
       "      <td>777.0</td>\n",
       "      <td>14.089704</td>\n",
       "      <td>3.958349</td>\n",
       "      <td>2.5</td>\n",
       "      <td>11.5</td>\n",
       "      <td>13.6</td>\n",
       "      <td>16.5</td>\n",
       "      <td>39.8</td>\n",
       "    </tr>\n",
       "    <tr>\n",
       "      <th>perc.alumni</th>\n",
       "      <td>777.0</td>\n",
       "      <td>22.743887</td>\n",
       "      <td>12.391801</td>\n",
       "      <td>0.0</td>\n",
       "      <td>13.0</td>\n",
       "      <td>21.0</td>\n",
       "      <td>31.0</td>\n",
       "      <td>64.0</td>\n",
       "    </tr>\n",
       "    <tr>\n",
       "      <th>Expend</th>\n",
       "      <td>777.0</td>\n",
       "      <td>9660.171171</td>\n",
       "      <td>5221.768440</td>\n",
       "      <td>3186.0</td>\n",
       "      <td>6751.0</td>\n",
       "      <td>8377.0</td>\n",
       "      <td>10830.0</td>\n",
       "      <td>56233.0</td>\n",
       "    </tr>\n",
       "    <tr>\n",
       "      <th>Grad.Rate</th>\n",
       "      <td>777.0</td>\n",
       "      <td>65.463320</td>\n",
       "      <td>17.177710</td>\n",
       "      <td>10.0</td>\n",
       "      <td>53.0</td>\n",
       "      <td>65.0</td>\n",
       "      <td>78.0</td>\n",
       "      <td>118.0</td>\n",
       "    </tr>\n",
       "  </tbody>\n",
       "</table>\n",
       "</div>"
      ],
      "text/plain": [
       "             count          mean          std     min     25%     50%  \\\n",
       "Apps         777.0   3001.638353  3870.201484    81.0   776.0  1558.0   \n",
       "Accept       777.0   2018.804376  2451.113971    72.0   604.0  1110.0   \n",
       "Enroll       777.0    779.972973   929.176190    35.0   242.0   434.0   \n",
       "Top10perc    777.0     27.558559    17.640364     1.0    15.0    23.0   \n",
       "Top25perc    777.0     55.796654    19.804778     9.0    41.0    54.0   \n",
       "F.Undergrad  777.0   3699.907336  4850.420531   139.0   992.0  1707.0   \n",
       "P.Undergrad  777.0    855.298584  1522.431887     1.0    95.0   353.0   \n",
       "Outstate     777.0  10440.669241  4023.016484  2340.0  7320.0  9990.0   \n",
       "Room.Board   777.0   4357.526384  1096.696416  1780.0  3597.0  4200.0   \n",
       "Books        777.0    549.380952   165.105360    96.0   470.0   500.0   \n",
       "Personal     777.0   1340.642214   677.071454   250.0   850.0  1200.0   \n",
       "PhD          777.0     72.660232    16.328155     8.0    62.0    75.0   \n",
       "Terminal     777.0     79.702703    14.722359    24.0    71.0    82.0   \n",
       "S.F.Ratio    777.0     14.089704     3.958349     2.5    11.5    13.6   \n",
       "perc.alumni  777.0     22.743887    12.391801     0.0    13.0    21.0   \n",
       "Expend       777.0   9660.171171  5221.768440  3186.0  6751.0  8377.0   \n",
       "Grad.Rate    777.0     65.463320    17.177710    10.0    53.0    65.0   \n",
       "\n",
       "                 75%      max  \n",
       "Apps          3624.0  48094.0  \n",
       "Accept        2424.0  26330.0  \n",
       "Enroll         902.0   6392.0  \n",
       "Top10perc       35.0     96.0  \n",
       "Top25perc       69.0    100.0  \n",
       "F.Undergrad   4005.0  31643.0  \n",
       "P.Undergrad    967.0  21836.0  \n",
       "Outstate     12925.0  21700.0  \n",
       "Room.Board    5050.0   8124.0  \n",
       "Books          600.0   2340.0  \n",
       "Personal      1700.0   6800.0  \n",
       "PhD             85.0    103.0  \n",
       "Terminal        92.0    100.0  \n",
       "S.F.Ratio       16.5     39.8  \n",
       "perc.alumni     31.0     64.0  \n",
       "Expend       10830.0  56233.0  \n",
       "Grad.Rate       78.0    118.0  "
      ]
     },
     "execution_count": 26,
     "metadata": {},
     "output_type": "execute_result"
    }
   ],
   "source": [
    "edu.describe().T"
   ]
  },
  {
   "cell_type": "code",
   "execution_count": 27,
   "metadata": {},
   "outputs": [
    {
     "data": {
      "text/plain": [
       "<matplotlib.axes._subplots.AxesSubplot at 0x203c45f1ac0>"
      ]
     },
     "execution_count": 27,
     "metadata": {},
     "output_type": "execute_result"
    },
    {
     "data": {
      "image/png": "[encoded data removed]",
      "text/plain": [
       "<Figure size 576x504 with 1 Axes>"
      ]
     },
     "metadata": {
      "needs_background": "light"
     },
     "output_type": "display_data"
    }
   ],
   "source": [
    "edu.boxplot(column=['Apps','Accept','Enroll'],figsize=(8,7))"
   ]
  },
  {
   "cell_type": "code",
   "execution_count": 28,
   "metadata": {},
   "outputs": [
    {
     "data": {
      "text/plain": [
       "<matplotlib.axes._subplots.AxesSubplot at 0x203c4686280>"
      ]
     },
     "execution_count": 28,
     "metadata": {},
     "output_type": "execute_result"
    },
    {
     "data": {
      "image/png": "[encoded data removed]",
      "text/plain": [
       "<Figure size 576x504 with 1 Axes>"
      ]
     },
     "metadata": {
      "needs_background": "light"
     },
     "output_type": "display_data"
    }
   ],
   "source": [
    "edu.boxplot(column=['Top10perc','Top25perc','F.Undergrad','P.Undergrad'],figsize=(8,7))"
   ]
  },
  {
   "cell_type": "code",
   "execution_count": 29,
   "metadata": {},
   "outputs": [
    {
     "data": {
      "text/plain": [
       "<matplotlib.axes._subplots.AxesSubplot at 0x203c45073a0>"
      ]
     },
     "execution_count": 29,
     "metadata": {},
     "output_type": "execute_result"
    },
    {
     "data": {
      "image/png": "[encoded data removed]",
      "text/plain": [
       "<Figure size 576x504 with 1 Axes>"
      ]
     },
     "metadata": {
      "needs_background": "light"
     },
     "output_type": "display_data"
    }
   ],
   "source": [
    "edu.boxplot(column=['Outstate','Room.Board','Books','Personal','PhD','Terminal'],figsize=(8,7))"
   ]
  },
  {
   "cell_type": "code",
   "execution_count": 30,
   "metadata": {},
   "outputs": [
    {
     "data": {
      "text/plain": [
       "<matplotlib.axes._subplots.AxesSubplot at 0x203c44b54c0>"
      ]
     },
     "execution_count": 30,
     "metadata": {},
     "output_type": "execute_result"
    },
    {
     "data": {
      "image/png": "[encoded data removed]",
      "text/plain": [
       "<Figure size 576x504 with 1 Axes>"
      ]
     },
     "metadata": {
      "needs_background": "light"
     },
     "output_type": "display_data"
    }
   ],
   "source": [
    "edu.boxplot(column=['Room.Board','Books','Personal'],figsize=(8,7))"
   ]
  },
  {
   "cell_type": "code",
   "execution_count": 31,
   "metadata": {},
   "outputs": [
    {
     "data": {
      "text/plain": [
       "<matplotlib.axes._subplots.AxesSubplot at 0x203c470d280>"
      ]
     },
     "execution_count": 31,
     "metadata": {},
     "output_type": "execute_result"
    },
    {
     "data": {
      "image/png": "[encoded data removed]",
      "text/plain": [
       "<Figure size 576x504 with 1 Axes>"
      ]
     },
     "metadata": {
      "needs_background": "light"
     },
     "output_type": "display_data"
    }
   ],
   "source": [
    "edu.boxplot(column='Books',figsize=(8,7))"
   ]
  },
  {
   "cell_type": "code",
   "execution_count": 32,
   "metadata": {},
   "outputs": [
    {
     "data": {
      "text/plain": [
       "<matplotlib.axes._subplots.AxesSubplot at 0x203c4893730>"
      ]
     },
     "execution_count": 32,
     "metadata": {},
     "output_type": "execute_result"
    },
    {
     "data": {
      "image/png": "[encoded data removed]",
      "text/plain": [
       "<Figure size 576x504 with 1 Axes>"
      ]
     },
     "metadata": {
      "needs_background": "light"
     },
     "output_type": "display_data"
    }
   ],
   "source": [
    "edu.boxplot(column=['PhD','Terminal'],figsize=(8,7))"
   ]
  },
  {
   "cell_type": "code",
   "execution_count": 33,
   "metadata": {},
   "outputs": [
    {
     "data": {
      "text/plain": [
       "<matplotlib.axes._subplots.AxesSubplot at 0x203c478b220>"
      ]
     },
     "execution_count": 33,
     "metadata": {},
     "output_type": "execute_result"
    },
    {
     "data": {
      "image/png": "[encoded data removed]",
      "text/plain": [
       "<Figure size 576x504 with 1 Axes>"
      ]
     },
     "metadata": {
      "needs_background": "light"
     },
     "output_type": "display_data"
    }
   ],
   "source": [
    "edu.boxplot(column=['S.F.Ratio','perc.alumni','Expend','Grad.Rate'],figsize=(8,7))"
   ]
  },
  {
   "cell_type": "code",
   "execution_count": 34,
   "metadata": {},
   "outputs": [
    {
     "data": {
      "text/plain": [
       "<matplotlib.axes._subplots.AxesSubplot at 0x203c48248b0>"
      ]
     },
     "execution_count": 34,
     "metadata": {},
     "output_type": "execute_result"
    },
    {
     "data": {
      "image/png": "[encoded data removed]",
      "text/plain": [
       "<Figure size 576x504 with 1 Axes>"
      ]
     },
     "metadata": {
      "needs_background": "light"
     },
     "output_type": "display_data"
    }
   ],
   "source": [
    "edu.boxplot(column=['S.F.Ratio','perc.alumni','Grad.Rate'],figsize=(8,7))"
   ]
  },
  {
   "cell_type": "markdown",
   "metadata": {},
   "source": [
    "## Removal of the outliers"
   ]
  },
  {
   "cell_type": "code",
   "execution_count": 35,
   "metadata": {},
   "outputs": [],
   "source": [
    "def remove_outlier(col):\n",
    "    sorted(col)\n",
    "    Q1,Q3=col.quantile([0.25,0.75])\n",
    "    IQR=Q3-Q1\n",
    "    lower_range= Q1-(1.5 * IQR)\n",
    "    upper_range= Q3+(1.5 * IQR)\n",
    "    return lower_range, upper_range  "
   ]
  },
  {
   "cell_type": "code",
   "execution_count": 36,
   "metadata": {},
   "outputs": [
    {
     "data": {
      "text/plain": [
       "<matplotlib.axes._subplots.AxesSubplot at 0x203c4922160>"
      ]
     },
     "execution_count": 36,
     "metadata": {},
     "output_type": "execute_result"
    },
    {
     "data": {
      "image/png": "[encoded data removed]",
      "text/plain": [
       "<Figure size 1440x360 with 1 Axes>"
      ]
     },
     "metadata": {
      "needs_background": "light"
     },
     "output_type": "display_data"
    }
   ],
   "source": [
    "edu.boxplot(figsize=(20,5))"
   ]
  },
  {
   "cell_type": "code",
   "execution_count": 37,
   "metadata": {},
   "outputs": [
    {
     "data": {
      "text/plain": [
       "(777, 18)"
      ]
     },
     "execution_count": 37,
     "metadata": {},
     "output_type": "execute_result"
    }
   ],
   "source": [
    "lrapps,urapps=remove_outlier(edu['Apps'])\n",
    "edu.Apps=np.where(edu['Apps']>urapps,urapps,edu['Apps'])\n",
    "edu['Apps']=np.where(edu['Apps']<lrapps,lrapps,edu['Apps'])\n",
    "\n",
    "lracc,uracc=remove_outlier(edu['Accept'])\n",
    "edu.Accept=np.where(edu['Accept']>uracc,uracc,edu['Accept'])\n",
    "edu['Accept']=np.where(edu['Accept']<lracc,lracc,edu['Accept'])\n",
    "\n",
    "lrenroll,urenroll=remove_outlier(edu['Enroll'])\n",
    "edu.Enroll=np.where(edu['Enroll']>urenroll,urenroll,edu['Enroll'])\n",
    "edu['Enroll']=np.where(edu['Enroll']<lrenroll,lrenroll,edu['Enroll'])\n",
    "\n",
    "lrtop10,urtop10=remove_outlier(edu['Top10perc'])\n",
    "edu.Top10perc=np.where(edu['Top10perc']>urtop10,urtop10,edu['Top10perc'])\n",
    "edu['Top10perc']=np.where(edu['Top10perc']<lrtop10,lrtop10,edu['Top10perc'])\n",
    "\n",
    "lrtop25,urtop25=remove_outlier(edu['Top25perc'])\n",
    "edu.Top25perc=np.where(edu['Top25perc']>urtop25,urtop25,edu['Top25perc'])\n",
    "edu['Top25perc']=np.where(edu['Top25perc']<lrtop25,lrtop25,edu['Top25perc'])\n",
    "\n",
    "lrfun,urfun=remove_outlier(edu['F.Undergrad'])\n",
    "edu['F.Undergrad']=np.where(edu['F.Undergrad']>urfun,urfun,edu['F.Undergrad'])\n",
    "edu['F.Undergrad']=np.where(edu['F.Undergrad']<lrfun,lrfun,edu['F.Undergrad'])\n",
    "\n",
    "lrpun,urpun=remove_outlier(edu['P.Undergrad'])\n",
    "edu['P.Undergrad']=np.where(edu['P.Undergrad']>urpun,urpun,edu['P.Undergrad'])\n",
    "edu['P.Undergrad']=np.where(edu['P.Undergrad']<lrpun,lrpun,edu['P.Undergrad'])\n",
    "\n",
    "lrroom,urroom=remove_outlier(edu['Room.Board'])\n",
    "edu['Room.Board']=np.where(edu['Room.Board']>urroom,urroom,edu['Room.Board'])\n",
    "edu['Room.Board']=np.where(edu['Room.Board']<lrroom,lrroom,edu['Room.Board'])\n",
    "\n",
    "lrbook,urbook=remove_outlier(edu['Books'])\n",
    "edu.Books=np.where(edu['Books']>urbook,urbook,edu['Books'])\n",
    "edu['Books']=np.where(edu['Books']<lrbook,lrbook,edu['Books'])\n",
    "\n",
    "lrper,urper=remove_outlier(edu['Personal'])\n",
    "edu.Personal=np.where(edu['Personal']>urper,urper,edu['Personal'])\n",
    "edu['Personal']=np.where(edu['Personal']<lrper,lrper,edu['Personal'])\n",
    "\n",
    "lrphd,urphd=remove_outlier(edu['PhD'])\n",
    "edu.PhD=np.where(edu['PhD']>urphd,urphd,edu['PhD'])\n",
    "edu['PhD']=np.where(edu['PhD']<lrphd,lrphd,edu['PhD'])\n",
    "\n",
    "lrterm,urterm=remove_outlier(edu['Terminal'])\n",
    "edu.Terminal=np.where(edu['Terminal']>urterm,urterm,edu['Terminal'])\n",
    "edu['Terminal']=np.where(edu['Terminal']<lrterm,lrterm,edu['Terminal'])\n",
    "\n",
    "lrsfr,ursfr=remove_outlier(edu['S.F.Ratio'])\n",
    "edu['S.F.Ratio']=np.where(edu['S.F.Ratio']>ursfr,ursfr,edu['S.F.Ratio'])\n",
    "edu['S.F.Ratio']=np.where(edu['S.F.Ratio']<lrsfr,lrsfr,edu['S.F.Ratio'])\n",
    "\n",
    "lrpercal,urpercal=remove_outlier(edu['perc.alumni'])\n",
    "edu['perc.alumni']=np.where(edu['perc.alumni']>urpercal,urpercal,edu['perc.alumni'])\n",
    "edu['perc.alumni']=np.where(edu['perc.alumni']<lrpercal,lrpercal,edu['perc.alumni'])\n",
    "\n",
    "lrexpend,urexpend=remove_outlier(edu['Expend'])\n",
    "edu.Expend=np.where(edu['Expend']>urexpend,urexpend,edu['Expend'])\n",
    "edu['Expend']=np.where(edu['Expend']<lrexpend,lrexpend,edu['Expend'])\n",
    "\n",
    "lrgradrate,urgradrate=remove_outlier(edu['Grad.Rate'])\n",
    "edu['Grad.Rate']=np.where(edu['Grad.Rate']>urgradrate,urgradrate,edu['Grad.Rate'])\n",
    "edu['Grad.Rate']=np.where(edu['Grad.Rate']<lrgradrate,lrgradrate,edu['Grad.Rate'])\n",
    "\n",
    "edu.shape"
   ]
  },
  {
   "cell_type": "code",
   "execution_count": 38,
   "metadata": {},
   "outputs": [
    {
     "data": {
      "text/plain": [
       "<matplotlib.axes._subplots.AxesSubplot at 0x203c5aba760>"
      ]
     },
     "execution_count": 38,
     "metadata": {},
     "output_type": "execute_result"
    },
    {
     "data": {
      "image/png": "[encoded data removed]",
      "text/plain": [
       "<Figure size 1440x360 with 1 Axes>"
      ]
     },
     "metadata": {
      "needs_background": "light"
     },
     "output_type": "display_data"
    }
   ],
   "source": [
    "edu.boxplot(figsize=(20,5))"
   ]
  },
  {
   "cell_type": "markdown",
   "metadata": {},
   "source": [
    "## Univariate Analysis"
   ]
  },
  {
   "cell_type": "code",
   "execution_count": 39,
   "metadata": {},
   "outputs": [],
   "source": [
    "def univariateAnalysis_numeric(column,nbins):\n",
    "    print(\"Description of \" + column)\n",
    "    print(\"******************\")\n",
    "    print(edu[column].describe(),end=' ')\n",
    "    \n",
    "    \n",
    "    plt.figure()\n",
    "    print(\"Distribution of \" + column)\n",
    "    print('******************')\n",
    "    sns.distplot(edu[column], kde=True, color='g');\n",
    "    plt.show()\n",
    "    \n",
    "    plt.figure()\n",
    "    print(\"Boxplot of \" + column)\n",
    "    print('******************')\n",
    "    ax = sns.boxplot(x=edu[column],color='orange')\n",
    "    plt.show()"
   ]
  },
  {
   "cell_type": "code",
   "execution_count": 40,
   "metadata": {},
   "outputs": [
    {
     "name": "stdout",
     "output_type": "stream",
     "text": [
      "Description of Apps\n",
      "******************\n",
      "count     777.000000\n",
      "mean     2571.352638\n",
      "std      2422.195279\n",
      "min        81.000000\n",
      "25%       776.000000\n",
      "50%      1558.000000\n",
      "75%      3624.000000\n",
      "max      7896.000000\n",
      "Name: Apps, dtype: float64 Distribution of Apps\n",
      "******************\n"
     ]
    },
    {
     "data": {
      "image/png": "[encoded data removed]",
      "text/plain": [
       "<Figure size 432x288 with 1 Axes>"
      ]
     },
     "metadata": {
      "needs_background": "light"
     },
     "output_type": "display_data"
    },
    {
     "name": "stdout",
     "output_type": "stream",
     "text": [
      "Boxplot of Apps\n",
      "******************\n"
     ]
    },
    {
     "data": {
      "image/png": "[encoded data removed]",
      "text/plain": [
       "<Figure size 432x288 with 1 Axes>"
      ]
     },
     "metadata": {
      "needs_background": "light"
     },
     "output_type": "display_data"
    }
   ],
   "source": [
    "#for whole dataset, the commented part will be used\n",
    "\n",
    "''''edu_num = edu.select_dtypes(include = ['float64', 'int64'])\n",
    "lstnumericcolumns = list(edu_num.columns.values)\n",
    "len(lstnumericcolumns)\n",
    "\n",
    "for x in lstnumericcolumns:\n",
    "    univariateAnalysis_numeric(x,16)'''\n",
    "\n",
    "univariateAnalysis_numeric('Apps',10)\n"
   ]
  },
  {
   "cell_type": "markdown",
   "metadata": {},
   "source": [
    "## Bivariate Analysis"
   ]
  },
  {
   "cell_type": "code",
   "execution_count": 41,
   "metadata": {},
   "outputs": [
    {
     "data": {
      "text/html": [
       "<div>\n",
       "<style scoped>\n",
       "    .dataframe tbody tr th:only-of-type {\n",
       "        vertical-align: middle;\n",
       "    }\n",
       "\n",
       "    .dataframe tbody tr th {\n",
       "        vertical-align: top;\n",
       "    }\n",
       "\n",
       "    .dataframe thead th {\n",
       "        text-align: right;\n",
       "    }\n",
       "</style>\n",
       "<table border=\"1\" class=\"dataframe\">\n",
       "  <thead>\n",
       "    <tr style=\"text-align: right;\">\n",
       "      <th></th>\n",
       "      <th>Apps</th>\n",
       "      <th>Accept</th>\n",
       "      <th>Enroll</th>\n",
       "      <th>Top10perc</th>\n",
       "      <th>Top25perc</th>\n",
       "      <th>F.Undergrad</th>\n",
       "      <th>P.Undergrad</th>\n",
       "      <th>Outstate</th>\n",
       "      <th>Room.Board</th>\n",
       "      <th>Books</th>\n",
       "      <th>Personal</th>\n",
       "      <th>PhD</th>\n",
       "      <th>Terminal</th>\n",
       "      <th>S.F.Ratio</th>\n",
       "      <th>perc.alumni</th>\n",
       "      <th>Expend</th>\n",
       "      <th>Grad.Rate</th>\n",
       "    </tr>\n",
       "  </thead>\n",
       "  <tbody>\n",
       "    <tr>\n",
       "      <th>Apps</th>\n",
       "      <td>1.000000</td>\n",
       "      <td>0.955307</td>\n",
       "      <td>0.896883</td>\n",
       "      <td>0.321342</td>\n",
       "      <td>0.364491</td>\n",
       "      <td>0.861002</td>\n",
       "      <td>0.519823</td>\n",
       "      <td>0.065216</td>\n",
       "      <td>0.187475</td>\n",
       "      <td>0.236138</td>\n",
       "      <td>0.229948</td>\n",
       "      <td>0.463924</td>\n",
       "      <td>0.434478</td>\n",
       "      <td>0.126411</td>\n",
       "      <td>-0.101158</td>\n",
       "      <td>0.242935</td>\n",
       "      <td>0.150803</td>\n",
       "    </tr>\n",
       "    <tr>\n",
       "      <th>Accept</th>\n",
       "      <td>0.955307</td>\n",
       "      <td>1.000000</td>\n",
       "      <td>0.935277</td>\n",
       "      <td>0.223298</td>\n",
       "      <td>0.273681</td>\n",
       "      <td>0.897034</td>\n",
       "      <td>0.572691</td>\n",
       "      <td>-0.005110</td>\n",
       "      <td>0.119586</td>\n",
       "      <td>0.208705</td>\n",
       "      <td>0.256346</td>\n",
       "      <td>0.427341</td>\n",
       "      <td>0.403409</td>\n",
       "      <td>0.188506</td>\n",
       "      <td>-0.165516</td>\n",
       "      <td>0.161808</td>\n",
       "      <td>0.078982</td>\n",
       "    </tr>\n",
       "    <tr>\n",
       "      <th>Enroll</th>\n",
       "      <td>0.896883</td>\n",
       "      <td>0.935277</td>\n",
       "      <td>1.000000</td>\n",
       "      <td>0.171756</td>\n",
       "      <td>0.230434</td>\n",
       "      <td>0.967302</td>\n",
       "      <td>0.641595</td>\n",
       "      <td>-0.155718</td>\n",
       "      <td>-0.023846</td>\n",
       "      <td>0.202057</td>\n",
       "      <td>0.339348</td>\n",
       "      <td>0.381540</td>\n",
       "      <td>0.354379</td>\n",
       "      <td>0.274269</td>\n",
       "      <td>-0.222723</td>\n",
       "      <td>0.054221</td>\n",
       "      <td>-0.023251</td>\n",
       "    </tr>\n",
       "    <tr>\n",
       "      <th>Top10perc</th>\n",
       "      <td>0.321342</td>\n",
       "      <td>0.223298</td>\n",
       "      <td>0.171756</td>\n",
       "      <td>1.000000</td>\n",
       "      <td>0.913875</td>\n",
       "      <td>0.111215</td>\n",
       "      <td>-0.180009</td>\n",
       "      <td>0.561963</td>\n",
       "      <td>0.357366</td>\n",
       "      <td>0.153452</td>\n",
       "      <td>-0.116730</td>\n",
       "      <td>0.544048</td>\n",
       "      <td>0.506748</td>\n",
       "      <td>-0.387926</td>\n",
       "      <td>0.455797</td>\n",
       "      <td>0.657039</td>\n",
       "      <td>0.493670</td>\n",
       "    </tr>\n",
       "    <tr>\n",
       "      <th>Top25perc</th>\n",
       "      <td>0.364491</td>\n",
       "      <td>0.273681</td>\n",
       "      <td>0.230434</td>\n",
       "      <td>0.913875</td>\n",
       "      <td>1.000000</td>\n",
       "      <td>0.181196</td>\n",
       "      <td>-0.099295</td>\n",
       "      <td>0.489394</td>\n",
       "      <td>0.330987</td>\n",
       "      <td>0.169761</td>\n",
       "      <td>-0.086810</td>\n",
       "      <td>0.551461</td>\n",
       "      <td>0.527654</td>\n",
       "      <td>-0.297233</td>\n",
       "      <td>0.416832</td>\n",
       "      <td>0.572905</td>\n",
       "      <td>0.478985</td>\n",
       "    </tr>\n",
       "    <tr>\n",
       "      <th>F.Undergrad</th>\n",
       "      <td>0.861002</td>\n",
       "      <td>0.897034</td>\n",
       "      <td>0.967302</td>\n",
       "      <td>0.111215</td>\n",
       "      <td>0.181196</td>\n",
       "      <td>1.000000</td>\n",
       "      <td>0.696130</td>\n",
       "      <td>-0.226200</td>\n",
       "      <td>-0.054476</td>\n",
       "      <td>0.207879</td>\n",
       "      <td>0.359783</td>\n",
       "      <td>0.361564</td>\n",
       "      <td>0.335054</td>\n",
       "      <td>0.324504</td>\n",
       "      <td>-0.285457</td>\n",
       "      <td>0.000371</td>\n",
       "      <td>-0.082239</td>\n",
       "    </tr>\n",
       "    <tr>\n",
       "      <th>P.Undergrad</th>\n",
       "      <td>0.519823</td>\n",
       "      <td>0.572691</td>\n",
       "      <td>0.641595</td>\n",
       "      <td>-0.180009</td>\n",
       "      <td>-0.099295</td>\n",
       "      <td>0.696130</td>\n",
       "      <td>1.000000</td>\n",
       "      <td>-0.354209</td>\n",
       "      <td>-0.067638</td>\n",
       "      <td>0.122529</td>\n",
       "      <td>0.344053</td>\n",
       "      <td>0.127663</td>\n",
       "      <td>0.122152</td>\n",
       "      <td>0.370607</td>\n",
       "      <td>-0.419334</td>\n",
       "      <td>-0.201929</td>\n",
       "      <td>-0.265158</td>\n",
       "    </tr>\n",
       "    <tr>\n",
       "      <th>Outstate</th>\n",
       "      <td>0.065216</td>\n",
       "      <td>-0.005110</td>\n",
       "      <td>-0.155718</td>\n",
       "      <td>0.561963</td>\n",
       "      <td>0.489394</td>\n",
       "      <td>-0.226200</td>\n",
       "      <td>-0.354209</td>\n",
       "      <td>1.000000</td>\n",
       "      <td>0.655249</td>\n",
       "      <td>0.005170</td>\n",
       "      <td>-0.325663</td>\n",
       "      <td>0.390915</td>\n",
       "      <td>0.412276</td>\n",
       "      <td>-0.573620</td>\n",
       "      <td>0.565651</td>\n",
       "      <td>0.775325</td>\n",
       "      <td>0.572201</td>\n",
       "    </tr>\n",
       "    <tr>\n",
       "      <th>Room.Board</th>\n",
       "      <td>0.187475</td>\n",
       "      <td>0.119586</td>\n",
       "      <td>-0.023846</td>\n",
       "      <td>0.357366</td>\n",
       "      <td>0.330987</td>\n",
       "      <td>-0.054476</td>\n",
       "      <td>-0.067638</td>\n",
       "      <td>0.655249</td>\n",
       "      <td>1.000000</td>\n",
       "      <td>0.108924</td>\n",
       "      <td>-0.219554</td>\n",
       "      <td>0.341469</td>\n",
       "      <td>0.379270</td>\n",
       "      <td>-0.376430</td>\n",
       "      <td>0.272393</td>\n",
       "      <td>0.580622</td>\n",
       "      <td>0.425790</td>\n",
       "    </tr>\n",
       "    <tr>\n",
       "      <th>Books</th>\n",
       "      <td>0.236138</td>\n",
       "      <td>0.208705</td>\n",
       "      <td>0.202057</td>\n",
       "      <td>0.153452</td>\n",
       "      <td>0.169761</td>\n",
       "      <td>0.207879</td>\n",
       "      <td>0.122529</td>\n",
       "      <td>0.005170</td>\n",
       "      <td>0.108924</td>\n",
       "      <td>1.000000</td>\n",
       "      <td>0.239863</td>\n",
       "      <td>0.136390</td>\n",
       "      <td>0.159318</td>\n",
       "      <td>-0.008536</td>\n",
       "      <td>-0.042832</td>\n",
       "      <td>0.149983</td>\n",
       "      <td>-0.008051</td>\n",
       "    </tr>\n",
       "    <tr>\n",
       "      <th>Personal</th>\n",
       "      <td>0.229948</td>\n",
       "      <td>0.256346</td>\n",
       "      <td>0.339348</td>\n",
       "      <td>-0.116730</td>\n",
       "      <td>-0.086810</td>\n",
       "      <td>0.359783</td>\n",
       "      <td>0.344053</td>\n",
       "      <td>-0.325663</td>\n",
       "      <td>-0.219554</td>\n",
       "      <td>0.239863</td>\n",
       "      <td>1.000000</td>\n",
       "      <td>-0.011684</td>\n",
       "      <td>-0.031971</td>\n",
       "      <td>0.173913</td>\n",
       "      <td>-0.305753</td>\n",
       "      <td>-0.163271</td>\n",
       "      <td>-0.290894</td>\n",
       "    </tr>\n",
       "    <tr>\n",
       "      <th>PhD</th>\n",
       "      <td>0.463924</td>\n",
       "      <td>0.427341</td>\n",
       "      <td>0.381540</td>\n",
       "      <td>0.544048</td>\n",
       "      <td>0.551461</td>\n",
       "      <td>0.361564</td>\n",
       "      <td>0.127663</td>\n",
       "      <td>0.390915</td>\n",
       "      <td>0.341469</td>\n",
       "      <td>0.136390</td>\n",
       "      <td>-0.011684</td>\n",
       "      <td>1.000000</td>\n",
       "      <td>0.862928</td>\n",
       "      <td>-0.129390</td>\n",
       "      <td>0.248877</td>\n",
       "      <td>0.510529</td>\n",
       "      <td>0.310019</td>\n",
       "    </tr>\n",
       "    <tr>\n",
       "      <th>Terminal</th>\n",
       "      <td>0.434478</td>\n",
       "      <td>0.403409</td>\n",
       "      <td>0.354379</td>\n",
       "      <td>0.506748</td>\n",
       "      <td>0.527654</td>\n",
       "      <td>0.335054</td>\n",
       "      <td>0.122152</td>\n",
       "      <td>0.412276</td>\n",
       "      <td>0.379270</td>\n",
       "      <td>0.159318</td>\n",
       "      <td>-0.031971</td>\n",
       "      <td>0.862928</td>\n",
       "      <td>1.000000</td>\n",
       "      <td>-0.150993</td>\n",
       "      <td>0.266033</td>\n",
       "      <td>0.524068</td>\n",
       "      <td>0.292803</td>\n",
       "    </tr>\n",
       "    <tr>\n",
       "      <th>S.F.Ratio</th>\n",
       "      <td>0.126411</td>\n",
       "      <td>0.188506</td>\n",
       "      <td>0.274269</td>\n",
       "      <td>-0.387926</td>\n",
       "      <td>-0.297233</td>\n",
       "      <td>0.324504</td>\n",
       "      <td>0.370607</td>\n",
       "      <td>-0.573620</td>\n",
       "      <td>-0.376430</td>\n",
       "      <td>-0.008536</td>\n",
       "      <td>0.173913</td>\n",
       "      <td>-0.129390</td>\n",
       "      <td>-0.150993</td>\n",
       "      <td>1.000000</td>\n",
       "      <td>-0.412101</td>\n",
       "      <td>-0.654376</td>\n",
       "      <td>-0.308525</td>\n",
       "    </tr>\n",
       "    <tr>\n",
       "      <th>perc.alumni</th>\n",
       "      <td>-0.101158</td>\n",
       "      <td>-0.165516</td>\n",
       "      <td>-0.222723</td>\n",
       "      <td>0.455797</td>\n",
       "      <td>0.416832</td>\n",
       "      <td>-0.285457</td>\n",
       "      <td>-0.419334</td>\n",
       "      <td>0.565651</td>\n",
       "      <td>0.272393</td>\n",
       "      <td>-0.042832</td>\n",
       "      <td>-0.305753</td>\n",
       "      <td>0.248877</td>\n",
       "      <td>0.266033</td>\n",
       "      <td>-0.412101</td>\n",
       "      <td>1.000000</td>\n",
       "      <td>0.462922</td>\n",
       "      <td>0.491408</td>\n",
       "    </tr>\n",
       "    <tr>\n",
       "      <th>Expend</th>\n",
       "      <td>0.242935</td>\n",
       "      <td>0.161808</td>\n",
       "      <td>0.054221</td>\n",
       "      <td>0.657039</td>\n",
       "      <td>0.572905</td>\n",
       "      <td>0.000371</td>\n",
       "      <td>-0.201929</td>\n",
       "      <td>0.775325</td>\n",
       "      <td>0.580622</td>\n",
       "      <td>0.149983</td>\n",
       "      <td>-0.163271</td>\n",
       "      <td>0.510529</td>\n",
       "      <td>0.524068</td>\n",
       "      <td>-0.654376</td>\n",
       "      <td>0.462922</td>\n",
       "      <td>1.000000</td>\n",
       "      <td>0.415291</td>\n",
       "    </tr>\n",
       "    <tr>\n",
       "      <th>Grad.Rate</th>\n",
       "      <td>0.150803</td>\n",
       "      <td>0.078982</td>\n",
       "      <td>-0.023251</td>\n",
       "      <td>0.493670</td>\n",
       "      <td>0.478985</td>\n",
       "      <td>-0.082239</td>\n",
       "      <td>-0.265158</td>\n",
       "      <td>0.572201</td>\n",
       "      <td>0.425790</td>\n",
       "      <td>-0.008051</td>\n",
       "      <td>-0.290894</td>\n",
       "      <td>0.310019</td>\n",
       "      <td>0.292803</td>\n",
       "      <td>-0.308525</td>\n",
       "      <td>0.491408</td>\n",
       "      <td>0.415291</td>\n",
       "      <td>1.000000</td>\n",
       "    </tr>\n",
       "  </tbody>\n",
       "</table>\n",
       "</div>"
      ],
      "text/plain": [
       "                 Apps    Accept    Enroll  Top10perc  Top25perc  F.Undergrad  \\\n",
       "Apps         1.000000  0.955307  0.896883   0.321342   0.364491     0.861002   \n",
       "Accept       0.955307  1.000000  0.935277   0.223298   0.273681     0.897034   \n",
       "Enroll       0.896883  0.935277  1.000000   0.171756   0.230434     0.967302   \n",
       "Top10perc    0.321342  0.223298  0.171756   1.000000   0.913875     0.111215   \n",
       "Top25perc    0.364491  0.273681  0.230434   0.913875   1.000000     0.181196   \n",
       "F.Undergrad  0.861002  0.897034  0.967302   0.111215   0.181196     1.000000   \n",
       "P.Undergrad  0.519823  0.572691  0.641595  -0.180009  -0.099295     0.696130   \n",
       "Outstate     0.065216 -0.005110 -0.155718   0.561963   0.489394    -0.226200   \n",
       "Room.Board   0.187475  0.119586 -0.023846   0.357366   0.330987    -0.054476   \n",
       "Books        0.236138  0.208705  0.202057   0.153452   0.169761     0.207879   \n",
       "Personal     0.229948  0.256346  0.339348  -0.116730  -0.086810     0.359783   \n",
       "PhD          0.463924  0.427341  0.381540   0.544048   0.551461     0.361564   \n",
       "Terminal     0.434478  0.403409  0.354379   0.506748   0.527654     0.335054   \n",
       "S.F.Ratio    0.126411  0.188506  0.274269  -0.387926  -0.297233     0.324504   \n",
       "perc.alumni -0.101158 -0.165516 -0.222723   0.455797   0.416832    -0.285457   \n",
       "Expend       0.242935  0.161808  0.054221   0.657039   0.572905     0.000371   \n",
       "Grad.Rate    0.150803  0.078982 -0.023251   0.493670   0.478985    -0.082239   \n",
       "\n",
       "             P.Undergrad  Outstate  Room.Board     Books  Personal       PhD  \\\n",
       "Apps            0.519823  0.065216    0.187475  0.236138  0.229948  0.463924   \n",
       "Accept          0.572691 -0.005110    0.119586  0.208705  0.256346  0.427341   \n",
       "Enroll          0.641595 -0.155718   -0.023846  0.202057  0.339348  0.381540   \n",
       "Top10perc      -0.180009  0.561963    0.357366  0.153452 -0.116730  0.544048   \n",
       "Top25perc      -0.099295  0.489394    0.330987  0.169761 -0.086810  0.551461   \n",
       "F.Undergrad     0.696130 -0.226200   -0.054476  0.207879  0.359783  0.361564   \n",
       "P.Undergrad     1.000000 -0.354209   -0.067638  0.122529  0.344053  0.127663   \n",
       "Outstate       -0.354209  1.000000    0.655249  0.005170 -0.325663  0.390915   \n",
       "Room.Board     -0.067638  0.655249    1.000000  0.108924 -0.219554  0.341469   \n",
       "Books           0.122529  0.005170    0.108924  1.000000  0.239863  0.136390   \n",
       "Personal        0.344053 -0.325663   -0.219554  0.239863  1.000000 -0.011684   \n",
       "PhD             0.127663  0.390915    0.341469  0.136390 -0.011684  1.000000   \n",
       "Terminal        0.122152  0.412276    0.379270  0.159318 -0.031971  0.862928   \n",
       "S.F.Ratio       0.370607 -0.573620   -0.376430 -0.008536  0.173913 -0.129390   \n",
       "perc.alumni    -0.419334  0.565651    0.272393 -0.042832 -0.305753  0.248877   \n",
       "Expend         -0.201929  0.775325    0.580622  0.149983 -0.163271  0.510529   \n",
       "Grad.Rate      -0.265158  0.572201    0.425790 -0.008051 -0.290894  0.310019   \n",
       "\n",
       "             Terminal  S.F.Ratio  perc.alumni    Expend  Grad.Rate  \n",
       "Apps         0.434478   0.126411    -0.101158  0.242935   0.150803  \n",
       "Accept       0.403409   0.188506    -0.165516  0.161808   0.078982  \n",
       "Enroll       0.354379   0.274269    -0.222723  0.054221  -0.023251  \n",
       "Top10perc    0.506748  -0.387926     0.455797  0.657039   0.493670  \n",
       "Top25perc    0.527654  -0.297233     0.416832  0.572905   0.478985  \n",
       "F.Undergrad  0.335054   0.324504    -0.285457  0.000371  -0.082239  \n",
       "P.Undergrad  0.122152   0.370607    -0.419334 -0.201929  -0.265158  \n",
       "Outstate     0.412276  -0.573620     0.565651  0.775325   0.572201  \n",
       "Room.Board   0.379270  -0.376430     0.272393  0.580622   0.425790  \n",
       "Books        0.159318  -0.008536    -0.042832  0.149983  -0.008051  \n",
       "Personal    -0.031971   0.173913    -0.305753 -0.163271  -0.290894  \n",
       "PhD          0.862928  -0.129390     0.248877  0.510529   0.310019  \n",
       "Terminal     1.000000  -0.150993     0.266033  0.524068   0.292803  \n",
       "S.F.Ratio   -0.150993   1.000000    -0.412101 -0.654376  -0.308525  \n",
       "perc.alumni  0.266033  -0.412101     1.000000  0.462922   0.491408  \n",
       "Expend       0.524068  -0.654376     0.462922  1.000000   0.415291  \n",
       "Grad.Rate    0.292803  -0.308525     0.491408  0.415291   1.000000  "
      ]
     },
     "execution_count": 41,
     "metadata": {},
     "output_type": "execute_result"
    }
   ],
   "source": [
    "edu.corr()"
   ]
  },
  {
   "cell_type": "code",
   "execution_count": 42,
   "metadata": {},
   "outputs": [
    {
     "data": {
      "image/png": "[encoded data removed]",
      "text/plain": [
       "<Figure size 864x504 with 2 Axes>"
      ]
     },
     "metadata": {
      "needs_background": "light"
     },
     "output_type": "display_data"
    }
   ],
   "source": [
    "plt.figure(figsize=(12,7))\n",
    "sns.heatmap(edu.corr(), annot=True, fmt='.2f', cmap='Blues')\n",
    "plt.show()"
   ]
  },
  {
   "cell_type": "markdown",
   "metadata": {},
   "source": [
    "# Scaling"
   ]
  },
  {
   "cell_type": "code",
   "execution_count": 43,
   "metadata": {},
   "outputs": [
    {
     "data": {
      "text/html": [
       "<div>\n",
       "<style scoped>\n",
       "    .dataframe tbody tr th:only-of-type {\n",
       "        vertical-align: middle;\n",
       "    }\n",
       "\n",
       "    .dataframe tbody tr th {\n",
       "        vertical-align: top;\n",
       "    }\n",
       "\n",
       "    .dataframe thead th {\n",
       "        text-align: right;\n",
       "    }\n",
       "</style>\n",
       "<table border=\"1\" class=\"dataframe\">\n",
       "  <thead>\n",
       "    <tr style=\"text-align: right;\">\n",
       "      <th></th>\n",
       "      <th>Apps</th>\n",
       "      <th>Accept</th>\n",
       "      <th>Enroll</th>\n",
       "      <th>Top10perc</th>\n",
       "      <th>Top25perc</th>\n",
       "      <th>F.Undergrad</th>\n",
       "      <th>P.Undergrad</th>\n",
       "      <th>Outstate</th>\n",
       "      <th>Room.Board</th>\n",
       "      <th>Books</th>\n",
       "      <th>Personal</th>\n",
       "      <th>PhD</th>\n",
       "      <th>Terminal</th>\n",
       "      <th>S.F.Ratio</th>\n",
       "      <th>perc.alumni</th>\n",
       "      <th>Expend</th>\n",
       "      <th>Grad.Rate</th>\n",
       "    </tr>\n",
       "  </thead>\n",
       "  <tbody>\n",
       "    <tr>\n",
       "      <th>0</th>\n",
       "      <td>-0.376493</td>\n",
       "      <td>-0.337830</td>\n",
       "      <td>0.106380</td>\n",
       "      <td>-0.246780</td>\n",
       "      <td>-0.191827</td>\n",
       "      <td>-0.018769</td>\n",
       "      <td>-0.166083</td>\n",
       "      <td>-0.746356</td>\n",
       "      <td>-0.968324</td>\n",
       "      <td>-0.776567</td>\n",
       "      <td>1.438500</td>\n",
       "      <td>-0.174045</td>\n",
       "      <td>-0.123239</td>\n",
       "      <td>1.070602</td>\n",
       "      <td>-0.870466</td>\n",
       "      <td>-0.630916</td>\n",
       "      <td>-0.319205</td>\n",
       "    </tr>\n",
       "    <tr>\n",
       "      <th>1</th>\n",
       "      <td>-0.159195</td>\n",
       "      <td>0.116744</td>\n",
       "      <td>-0.260441</td>\n",
       "      <td>-0.696290</td>\n",
       "      <td>-1.353911</td>\n",
       "      <td>-0.093626</td>\n",
       "      <td>0.797856</td>\n",
       "      <td>0.457496</td>\n",
       "      <td>1.921680</td>\n",
       "      <td>1.828605</td>\n",
       "      <td>0.289289</td>\n",
       "      <td>-2.745731</td>\n",
       "      <td>-2.785068</td>\n",
       "      <td>-0.489511</td>\n",
       "      <td>-0.545726</td>\n",
       "      <td>0.396097</td>\n",
       "      <td>-0.552693</td>\n",
       "    </tr>\n",
       "    <tr>\n",
       "      <th>2</th>\n",
       "      <td>-0.472336</td>\n",
       "      <td>-0.426511</td>\n",
       "      <td>-0.569343</td>\n",
       "      <td>-0.310996</td>\n",
       "      <td>-0.292878</td>\n",
       "      <td>-0.703966</td>\n",
       "      <td>-0.777974</td>\n",
       "      <td>0.201305</td>\n",
       "      <td>-0.555466</td>\n",
       "      <td>-1.210762</td>\n",
       "      <td>-0.260691</td>\n",
       "      <td>-1.240354</td>\n",
       "      <td>-0.952900</td>\n",
       "      <td>-0.304413</td>\n",
       "      <td>0.590864</td>\n",
       "      <td>-0.131845</td>\n",
       "      <td>-0.669437</td>\n",
       "    </tr>\n",
       "    <tr>\n",
       "      <th>3</th>\n",
       "      <td>-0.889994</td>\n",
       "      <td>-0.917871</td>\n",
       "      <td>-0.918613</td>\n",
       "      <td>2.129202</td>\n",
       "      <td>1.677612</td>\n",
       "      <td>-0.898889</td>\n",
       "      <td>-0.828267</td>\n",
       "      <td>0.626633</td>\n",
       "      <td>1.004218</td>\n",
       "      <td>-0.776567</td>\n",
       "      <td>-0.736792</td>\n",
       "      <td>1.205884</td>\n",
       "      <td>1.190391</td>\n",
       "      <td>-1.679429</td>\n",
       "      <td>1.159159</td>\n",
       "      <td>2.287940</td>\n",
       "      <td>-0.377577</td>\n",
       "    </tr>\n",
       "    <tr>\n",
       "      <th>4</th>\n",
       "      <td>-0.982532</td>\n",
       "      <td>-1.051221</td>\n",
       "      <td>-1.062533</td>\n",
       "      <td>-0.696290</td>\n",
       "      <td>-0.596031</td>\n",
       "      <td>-0.995610</td>\n",
       "      <td>0.297726</td>\n",
       "      <td>-0.716508</td>\n",
       "      <td>-0.216006</td>\n",
       "      <td>2.219381</td>\n",
       "      <td>0.289289</td>\n",
       "      <td>0.202299</td>\n",
       "      <td>-0.538069</td>\n",
       "      <td>-0.568839</td>\n",
       "      <td>-1.682316</td>\n",
       "      <td>0.512468</td>\n",
       "      <td>-2.916759</td>\n",
       "    </tr>\n",
       "  </tbody>\n",
       "</table>\n",
       "</div>"
      ],
      "text/plain": [
       "       Apps    Accept    Enroll  Top10perc  Top25perc  F.Undergrad  \\\n",
       "0 -0.376493 -0.337830  0.106380  -0.246780  -0.191827    -0.018769   \n",
       "1 -0.159195  0.116744 -0.260441  -0.696290  -1.353911    -0.093626   \n",
       "2 -0.472336 -0.426511 -0.569343  -0.310996  -0.292878    -0.703966   \n",
       "3 -0.889994 -0.917871 -0.918613   2.129202   1.677612    -0.898889   \n",
       "4 -0.982532 -1.051221 -1.062533  -0.696290  -0.596031    -0.995610   \n",
       "\n",
       "   P.Undergrad  Outstate  Room.Board     Books  Personal       PhD  Terminal  \\\n",
       "0    -0.166083 -0.746356   -0.968324 -0.776567  1.438500 -0.174045 -0.123239   \n",
       "1     0.797856  0.457496    1.921680  1.828605  0.289289 -2.745731 -2.785068   \n",
       "2    -0.777974  0.201305   -0.555466 -1.210762 -0.260691 -1.240354 -0.952900   \n",
       "3    -0.828267  0.626633    1.004218 -0.776567 -0.736792  1.205884  1.190391   \n",
       "4     0.297726 -0.716508   -0.216006  2.219381  0.289289  0.202299 -0.538069   \n",
       "\n",
       "   S.F.Ratio  perc.alumni    Expend  Grad.Rate  \n",
       "0   1.070602    -0.870466 -0.630916  -0.319205  \n",
       "1  -0.489511    -0.545726  0.396097  -0.552693  \n",
       "2  -0.304413     0.590864 -0.131845  -0.669437  \n",
       "3  -1.679429     1.159159  2.287940  -0.377577  \n",
       "4  -0.568839    -1.682316  0.512468  -2.916759  "
      ]
     },
     "execution_count": 43,
     "metadata": {},
     "output_type": "execute_result"
    }
   ],
   "source": [
    "edu_new = edu.drop(['Names'], axis =1)\n",
    "\n",
    "edu_new.head()\n",
    "\n",
    "from scipy.stats import zscore\n",
    "edu_new=edu_new.apply(zscore)\n",
    "edu_new.head()"
   ]
  },
  {
   "cell_type": "code",
   "execution_count": 44,
   "metadata": {},
   "outputs": [
    {
     "data": {
      "text/plain": [
       "<matplotlib.axes._subplots.AxesSubplot at 0x203c66dfc10>"
      ]
     },
     "execution_count": 44,
     "metadata": {},
     "output_type": "execute_result"
    },
    {
     "data": {
      "image/png": "[encoded data removed]",
      "text/plain": [
       "<Figure size 1440x216 with 1 Axes>"
      ]
     },
     "metadata": {
      "needs_background": "light"
     },
     "output_type": "display_data"
    }
   ],
   "source": [
    "edu_new.boxplot(figsize=(20,3))"
   ]
  },
  {
   "cell_type": "markdown",
   "metadata": {},
   "source": [
    "# PCA"
   ]
  },
  {
   "cell_type": "code",
   "execution_count": 45,
   "metadata": {},
   "outputs": [
    {
     "name": "stdout",
     "output_type": "stream",
     "text": [
      "Covariance Matrix \n",
      "%s [[ 1.00128866e+00  9.56537704e-01  8.98039052e-01  3.21756324e-01\n",
      "   3.64960691e-01  8.62111140e-01  5.20492952e-01  6.52998927e-02\n",
      "   1.87717056e-01  2.36441941e-01  2.30243993e-01  4.64521757e-01\n",
      "   4.35037784e-01  1.26573895e-01 -1.01288006e-01  2.43248206e-01\n",
      "   1.50997775e-01]\n",
      " [ 9.56537704e-01  1.00128866e+00  9.36482483e-01  2.23586208e-01\n",
      "   2.74033187e-01  8.98189799e-01  5.73428908e-01 -5.11694701e-03\n",
      "   1.19740419e-01  2.08974091e-01  2.56676290e-01  4.27891234e-01\n",
      "   4.03929238e-01  1.88748711e-01 -1.65728801e-01  1.62016688e-01\n",
      "   7.90839722e-02]\n",
      " [ 8.98039052e-01  9.36482483e-01  1.00128866e+00  1.71977357e-01\n",
      "   2.30730728e-01  9.68548601e-01  6.42421828e-01 -1.55918498e-01\n",
      "  -2.38762560e-02  2.02317274e-01  3.39785395e-01  3.82031198e-01\n",
      "   3.54835877e-01  2.74622251e-01 -2.23009677e-01  5.42906862e-02\n",
      "  -2.32810071e-02]\n",
      " [ 3.21756324e-01  2.23586208e-01  1.71977357e-01  1.00128866e+00\n",
      "   9.15052977e-01  1.11358019e-01 -1.80240778e-01  5.62687647e-01\n",
      "   3.57826139e-01  1.53650150e-01 -1.16880152e-01  5.44748764e-01\n",
      "   5.07401238e-01 -3.88425719e-01  4.56384036e-01  6.57885921e-01\n",
      "   4.94306540e-01]\n",
      " [ 3.64960691e-01  2.74033187e-01  2.30730728e-01  9.15052977e-01\n",
      "   1.00128866e+00  1.81429267e-01 -9.94231153e-02  4.90024494e-01\n",
      "   3.31413314e-01  1.69979808e-01 -8.69219644e-02  5.52172085e-01\n",
      "   5.28333659e-01 -2.97616423e-01  4.17369123e-01  5.73643193e-01\n",
      "   4.79601950e-01]\n",
      " [ 8.62111140e-01  8.98189799e-01  9.68548601e-01  1.11358019e-01\n",
      "   1.81429267e-01  1.00128866e+00  6.97027420e-01 -2.26491832e-01\n",
      "  -5.45459528e-02  2.08147257e-01  3.60246460e-01  3.62030390e-01\n",
      "   3.35485771e-01  3.24921933e-01 -2.85825062e-01  3.71119607e-04\n",
      "  -8.23447851e-02]\n",
      " [ 5.20492952e-01  5.73428908e-01  6.42421828e-01 -1.80240778e-01\n",
      "  -9.94231153e-02  6.97027420e-01  1.00128866e+00 -3.54665512e-01\n",
      "  -6.77252009e-02  1.22686416e-01  3.44495974e-01  1.27827147e-01\n",
      "   1.22309141e-01  3.71084841e-01 -4.19874031e-01 -2.02189396e-01\n",
      "  -2.65499420e-01]\n",
      " [ 6.52998927e-02 -5.11694701e-03 -1.55918498e-01  5.62687647e-01\n",
      "   4.90024494e-01 -2.26491832e-01 -3.54665512e-01  1.00128866e+00\n",
      "   6.56093211e-01  5.17686720e-03 -3.26082557e-01  3.91418707e-01\n",
      "   4.12807102e-01 -5.74358839e-01  5.66379983e-01  7.76324230e-01\n",
      "   5.72937965e-01]\n",
      " [ 1.87717056e-01  1.19740419e-01 -2.38762560e-02  3.57826139e-01\n",
      "   3.31413314e-01 -5.45459528e-02 -6.77252009e-02  6.56093211e-01\n",
      "   1.00128866e+00  1.09064551e-01 -2.19837042e-01  3.41908577e-01\n",
      "   3.79759015e-01 -3.76915472e-01  2.72743761e-01  5.81370284e-01\n",
      "   4.26338910e-01]\n",
      " [ 2.36441941e-01  2.08974091e-01  2.02317274e-01  1.53650150e-01\n",
      "   1.69979808e-01  2.08147257e-01  1.22686416e-01  5.17686720e-03\n",
      "   1.09064551e-01  1.00128866e+00  2.40172145e-01  1.36566243e-01\n",
      "   1.59523091e-01 -8.54689129e-03 -4.28870629e-02  1.50176551e-01\n",
      "  -8.06107505e-03]\n",
      " [ 2.30243993e-01  2.56676290e-01  3.39785395e-01 -1.16880152e-01\n",
      "  -8.69219644e-02  3.60246460e-01  3.44495974e-01 -3.26082557e-01\n",
      "  -2.19837042e-01  2.40172145e-01  1.00128866e+00 -1.16986124e-02\n",
      "  -3.20117803e-02  1.74136664e-01 -3.06146886e-01 -1.63481407e-01\n",
      "  -2.91268705e-01]\n",
      " [ 4.64521757e-01  4.27891234e-01  3.82031198e-01  5.44748764e-01\n",
      "   5.52172085e-01  3.62030390e-01  1.27827147e-01  3.91418707e-01\n",
      "   3.41908577e-01  1.36566243e-01 -1.16986124e-02  1.00128866e+00\n",
      "   8.64040263e-01 -1.29556494e-01  2.49197779e-01  5.11186852e-01\n",
      "   3.10418895e-01]\n",
      " [ 4.35037784e-01  4.03929238e-01  3.54835877e-01  5.07401238e-01\n",
      "   5.28333659e-01  3.35485771e-01  1.22309141e-01  4.12807102e-01\n",
      "   3.79759015e-01  1.59523091e-01 -3.20117803e-02  8.64040263e-01\n",
      "   1.00128866e+00 -1.51187934e-01  2.66375402e-01  5.24743500e-01\n",
      "   2.93180212e-01]\n",
      " [ 1.26573895e-01  1.88748711e-01  2.74622251e-01 -3.88425719e-01\n",
      "  -2.97616423e-01  3.24921933e-01  3.71084841e-01 -5.74358839e-01\n",
      "  -3.76915472e-01 -8.54689129e-03  1.74136664e-01 -1.29556494e-01\n",
      "  -1.51187934e-01  1.00128866e+00 -4.12632056e-01 -6.55219504e-01\n",
      "  -3.08922187e-01]\n",
      " [-1.01288006e-01 -1.65728801e-01 -2.23009677e-01  4.56384036e-01\n",
      "   4.17369123e-01 -2.85825062e-01 -4.19874031e-01  5.66379983e-01\n",
      "   2.72743761e-01 -4.28870629e-02 -3.06146886e-01  2.49197779e-01\n",
      "   2.66375402e-01 -4.12632056e-01  1.00128866e+00  4.63518674e-01\n",
      "   4.92040760e-01]\n",
      " [ 2.43248206e-01  1.62016688e-01  5.42906862e-02  6.57885921e-01\n",
      "   5.73643193e-01  3.71119607e-04 -2.02189396e-01  7.76324230e-01\n",
      "   5.81370284e-01  1.50176551e-01 -1.63481407e-01  5.11186852e-01\n",
      "   5.24743500e-01 -6.55219504e-01  4.63518674e-01  1.00128866e+00\n",
      "   4.15826026e-01]\n",
      " [ 1.50997775e-01  7.90839722e-02 -2.32810071e-02  4.94306540e-01\n",
      "   4.79601950e-01 -8.23447851e-02 -2.65499420e-01  5.72937965e-01\n",
      "   4.26338910e-01 -8.06107505e-03 -2.91268705e-01  3.10418895e-01\n",
      "   2.93180212e-01 -3.08922187e-01  4.92040760e-01  4.15826026e-01\n",
      "   1.00128866e+00]]\n"
     ]
    }
   ],
   "source": [
    "cov_matrix = np.cov(edu_new.T)\n",
    "print('Covariance Matrix \\n%s', cov_matrix)"
   ]
  },
  {
   "cell_type": "code",
   "execution_count": 46,
   "metadata": {},
   "outputs": [
    {
     "name": "stdout",
     "output_type": "stream",
     "text": [
      "Eigen Vectors \n",
      "%s [[-2.62229954e-01  3.14086037e-01  8.09955831e-02 -9.88928777e-02\n",
      "  -2.19853756e-01  2.20227040e-03 -2.83402150e-02 -8.99539206e-02\n",
      "   1.30529963e-01 -1.56399024e-01 -8.64339039e-02  1.82176767e-01\n",
      "  -5.99192409e-01  8.95731261e-02  8.93620797e-02  5.49345180e-01\n",
      "   5.60461479e-03]\n",
      " [-2.30624175e-01  3.44579410e-01  1.07628639e-01 -1.18256183e-01\n",
      "  -1.89591977e-01 -1.65097581e-02 -1.29185319e-02 -1.37615449e-01\n",
      "   1.42229385e-01 -1.49176136e-01 -4.27692108e-02 -3.91053967e-01\n",
      "   6.61475193e-01  1.58543942e-01  4.45021452e-02  2.91678683e-01\n",
      "   1.44515496e-02]\n",
      " [-1.89344833e-01  3.82775616e-01  8.55219277e-02 -9.42087583e-03\n",
      "  -1.62328025e-01 -6.80760682e-02 -1.52041732e-02 -1.44235243e-01\n",
      "   5.08457135e-02 -6.48716395e-02 -4.38253321e-02  7.16683738e-01\n",
      "   2.33289412e-01 -3.50755203e-02 -6.22274427e-02 -4.16942023e-01\n",
      "  -4.99188776e-02]\n",
      " [-3.38870612e-01 -9.93810159e-02 -7.87314184e-02  3.69061925e-01\n",
      "  -1.57346400e-01 -8.88704326e-02 -2.57598708e-01  2.89415886e-01\n",
      "  -1.22496689e-01 -3.58226302e-02  1.60408090e-03 -5.62060387e-02\n",
      "   2.20798380e-02 -3.96888622e-02  6.97886116e-02  8.97827859e-03\n",
      "  -7.23633963e-01]\n",
      " [-3.34693925e-01 -5.95673511e-02 -5.06859756e-02  4.16765983e-01\n",
      "  -1.44606347e-01 -2.76352633e-02 -2.39198079e-01  3.45527370e-01\n",
      "  -1.93948970e-01  6.47553508e-03 -1.01815862e-01  1.96733249e-02\n",
      "   3.23184484e-02  1.46262314e-01 -9.65358281e-02 -1.09298126e-02\n",
      "   6.55440118e-01]\n",
      " [-1.63363953e-01  3.98602853e-01  7.36990732e-02 -1.40415928e-02\n",
      "  -1.02739400e-01 -5.16463458e-02 -3.11406073e-02 -1.08766871e-01\n",
      "   1.45088677e-03 -1.50581177e-04 -3.48741181e-02 -5.42765325e-01\n",
      "  -3.67637663e-01 -1.32981726e-01 -8.79109452e-02 -5.70752875e-01\n",
      "   2.52044965e-02]\n",
      " [-2.25370199e-02  3.57544493e-01  4.02991311e-02 -2.25334018e-01\n",
      "   9.57648415e-02 -2.45333768e-02 -9.99602946e-03  1.23887243e-01\n",
      "  -6.34603597e-01  5.46413915e-01  2.52353663e-01  2.95032320e-02\n",
      "   2.62574146e-02  4.97741097e-02  4.48330712e-02  1.46416174e-01\n",
      "  -3.97051558e-02]\n",
      " [-2.83418894e-01 -2.51926173e-01  1.47793128e-02 -2.63127474e-01\n",
      "  -3.74030661e-02 -2.04238675e-02  9.42393435e-02  1.09944753e-02\n",
      "  -8.70300720e-03 -2.32377635e-01  5.93993894e-01  1.05340125e-03\n",
      "  -8.12623645e-02  5.59505595e-01  6.92980972e-02 -2.11124503e-01\n",
      "  -1.88520595e-03]\n",
      " [-2.44165100e-01 -1.31948412e-01 -2.12471630e-02 -5.80771998e-01\n",
      "   6.94353667e-02  2.37310219e-01  9.45330546e-02  3.89816941e-01\n",
      "  -2.20477471e-01 -2.54708532e-01 -4.75559133e-01  9.85317812e-03\n",
      "   2.67153412e-02 -1.06827479e-01  1.72539410e-02 -1.01163660e-01\n",
      "  -2.82201807e-02]\n",
      " [-9.67336197e-02  9.39488008e-02 -6.97109228e-01  3.63052887e-02\n",
      "  -3.53925445e-02  6.38604128e-01 -1.11136983e-01 -2.39880475e-01\n",
      "   2.10349187e-02  9.11818746e-02  4.35903625e-02  4.36176092e-03\n",
      "   1.04812743e-02  5.13778037e-02  3.55930858e-02 -2.85899031e-02\n",
      "  -8.08775742e-03]\n",
      " [ 3.51980721e-02  2.32449626e-01 -5.30972095e-01  1.15165232e-01\n",
      "   3.72672043e-04 -3.81497039e-01  6.39263507e-01  2.77411175e-01\n",
      "   1.73317147e-02 -1.27800615e-01  1.52639049e-02 -1.08719247e-02\n",
      "   4.53381131e-03  9.53529169e-03 -1.17755963e-02  3.37965245e-02\n",
      "   1.42538056e-03]\n",
      " [-3.26417621e-01  5.50923798e-02  8.11568293e-02  1.47493434e-01\n",
      "   5.50740871e-01  3.31663813e-03  8.92642452e-02 -3.42192998e-02\n",
      "   1.66553904e-01  1.00896901e-01 -3.91625008e-02  1.33154500e-02\n",
      "   1.24535635e-02 -7.38415939e-02  7.02378177e-01 -6.42349369e-02\n",
      "   8.31249410e-02]\n",
      " [-3.23125866e-01  4.29817641e-02  5.90116499e-02  8.92316091e-02\n",
      "   5.90384989e-01  3.53819563e-02  9.17842698e-02 -9.02524016e-02\n",
      "   1.12652610e-01  8.59246464e-02 -8.42765501e-02  7.38073579e-03\n",
      "  -1.79263411e-02  1.66315802e-01 -6.61893940e-01  9.87799111e-02\n",
      "  -1.13346355e-01]\n",
      " [ 1.63117512e-01  2.59836893e-01  2.74182670e-01  2.59459470e-01\n",
      "   1.42671769e-01  4.68715236e-01  1.52657742e-01  2.42697067e-01\n",
      "  -1.53949926e-01 -4.70803066e-01  3.62555960e-01  8.85700652e-03\n",
      "   1.83281207e-02 -2.40168599e-01 -4.85696576e-02  6.20843553e-02\n",
      "   3.86298044e-03]\n",
      " [-1.86577501e-01 -2.57127529e-01  1.03778841e-01  2.23891521e-01\n",
      "  -1.28301294e-01  1.25611171e-02  3.91648861e-01 -5.65908139e-01\n",
      "  -5.39234325e-01 -1.47213285e-01 -1.74291024e-01 -2.40556269e-02\n",
      "  -9.94066346e-05 -4.90339178e-02  3.56767931e-02  2.80213390e-02\n",
      "  -7.29014869e-03]\n",
      " [-3.28948915e-01 -1.60079675e-01 -1.84231441e-01 -2.13763195e-01\n",
      "   2.25379163e-02 -2.31552651e-01 -1.50372492e-01 -1.18830581e-01\n",
      "   2.42191160e-02 -8.05077510e-02  3.92738917e-01  1.05552769e-02\n",
      "   5.60077020e-02 -6.90530124e-01 -1.28890989e-01  1.28701212e-01\n",
      "   1.45275815e-01]\n",
      " [-2.38796220e-01 -1.67560132e-01  2.45356453e-01  3.60906371e-02\n",
      "  -3.56800027e-01  3.13588215e-01  4.68649048e-01  1.80744837e-01\n",
      "   3.16040253e-01  4.88148722e-01  8.76873675e-02 -2.51301375e-03\n",
      "   1.48067785e-02 -1.58936554e-01 -6.35994331e-02 -7.18789854e-03\n",
      "  -3.24971944e-03]]\n",
      "\n",
      " Eigen Values \n",
      "%s [5.66219907 4.89471273 1.12636392 1.00402092 0.87219858 0.76575542\n",
      " 0.58488145 0.54450163 0.42352463 0.38105823 0.24726431 0.02239369\n",
      " 0.03789706 0.14726488 0.13433384 0.09884696 0.07468991]\n"
     ]
    }
   ],
   "source": [
    "eig_vals, eig_vecs = np.linalg.eig(cov_matrix)\n",
    "print('Eigen Vectors \\n%s', eig_vecs)\n",
    "print('\\n Eigen Values \\n%s', eig_vals)"
   ]
  },
  {
   "cell_type": "code",
   "execution_count": 47,
   "metadata": {},
   "outputs": [
    {
     "name": "stdout",
     "output_type": "stream",
     "text": [
      "Cumulative Variance Explained [ 33.26418711  62.01955902  68.63670192  74.53510631  79.65908311\n",
      "  84.15772951  87.59378071  90.79260926  93.28072429  95.51935846\n",
      "  96.97198249  97.83713159  98.62631364  99.20701804  99.64580501\n",
      "  99.86844197 100.        ]\n"
     ]
    }
   ],
   "source": [
    "tot = sum(eig_vals)\n",
    "var_exp = [( i /tot ) * 100 for i in sorted(eig_vals, reverse=True)]\n",
    "cum_var_exp = np.cumsum(var_exp)\n",
    "print(\"Cumulative Variance Explained\", cum_var_exp)"
   ]
  },
  {
   "cell_type": "code",
   "execution_count": 48,
   "metadata": {},
   "outputs": [
    {
     "data": {
      "image/png": "[encoded data removed]",
      "text/plain": [
       "<Figure size 576x360 with 1 Axes>"
      ]
     },
     "metadata": {
      "needs_background": "light"
     },
     "output_type": "display_data"
    }
   ],
   "source": [
    "fig = plt.figure(figsize=(8,5))\n",
    "sing_vals = range(edu_new.shape[1])\n",
    "plt.plot(sing_vals, eig_vals, 'ro-', linewidth=2)\n",
    "plt.plot(range(0,17),np.ones(17))\n",
    "plt.title('Scree Plot')\n",
    "plt.xlabel('Principal Component')\n",
    "plt.ylabel('Eigenvalue')\n",
    "plt.grid()\n",
    "plt.show()"
   ]
  },
  {
   "cell_type": "code",
   "execution_count": 49,
   "metadata": {},
   "outputs": [
    {
     "data": {
      "text/plain": [
       "array([[-1.60229153e+00, -1.80481136e+00, -1.60860416e+00, ...,\n",
       "        -5.76742904e-01,  6.57047876e+00, -4.77040251e-01],\n",
       "       [ 9.93964675e-01, -7.00902925e-02, -1.38246959e+00, ...,\n",
       "         1.78521151e-02, -1.18592910e+00,  1.04399274e+00],\n",
       "       [ 2.98657591e-02,  2.12293310e+00, -5.01472013e-01, ...,\n",
       "         3.21930830e-01,  1.32596986e+00, -1.42582173e+00],\n",
       "       ...,\n",
       "       [-6.97542140e-01,  9.95111125e-01, -1.02622772e+00, ...,\n",
       "         5.04043155e-01, -8.22646525e-01,  1.05184281e+00],\n",
       "       [ 7.10075776e-01, -3.96160581e-01, -1.65355313e-01, ...,\n",
       "        -1.45817474e+00,  1.20129293e+00,  1.07317781e+00],\n",
       "       [ 8.95231953e-01,  2.59633499e-01, -4.09051832e-01, ...,\n",
       "        -2.89623190e-01,  6.26949715e-03,  6.06188266e-01]])"
      ]
     },
     "execution_count": 49,
     "metadata": {},
     "output_type": "execute_result"
    }
   ],
   "source": [
    "from sklearn.decomposition import PCA\n",
    "pca = PCA(n_components=8,random_state=123) #as per the scree plot, n_components=3\n",
    "edu_pca = pca.fit_transform(edu_new)\n",
    "edu_pca.transpose()"
   ]
  },
  {
   "cell_type": "code",
   "execution_count": 50,
   "metadata": {},
   "outputs": [
    {
     "data": {
      "text/plain": [
       "array([[ 2.62229954e-01,  2.30624175e-01,  1.89344833e-01,\n",
       "         3.38870612e-01,  3.34693925e-01,  1.63363953e-01,\n",
       "         2.25370199e-02,  2.83418894e-01,  2.44165100e-01,\n",
       "         9.67336197e-02, -3.51980721e-02,  3.26417621e-01,\n",
       "         3.23125866e-01, -1.63117512e-01,  1.86577501e-01,\n",
       "         3.28948915e-01,  2.38796220e-01],\n",
       "       [ 3.14086037e-01,  3.44579410e-01,  3.82775616e-01,\n",
       "        -9.93810159e-02, -5.95673511e-02,  3.98602853e-01,\n",
       "         3.57544493e-01, -2.51926173e-01, -1.31948412e-01,\n",
       "         9.39488008e-02,  2.32449626e-01,  5.50923798e-02,\n",
       "         4.29817641e-02,  2.59836893e-01, -2.57127529e-01,\n",
       "        -1.60079675e-01, -1.67560132e-01],\n",
       "       [-8.09955831e-02, -1.07628639e-01, -8.55219277e-02,\n",
       "         7.87314184e-02,  5.06859756e-02, -7.36990732e-02,\n",
       "        -4.02991311e-02, -1.47793128e-02,  2.12471630e-02,\n",
       "         6.97109228e-01,  5.30972095e-01, -8.11568293e-02,\n",
       "        -5.90116499e-02, -2.74182670e-01, -1.03778841e-01,\n",
       "         1.84231441e-01, -2.45356453e-01],\n",
       "       [ 9.88928777e-02,  1.18256183e-01,  9.42087583e-03,\n",
       "        -3.69061925e-01, -4.16765983e-01,  1.40415928e-02,\n",
       "         2.25334018e-01,  2.63127474e-01,  5.80771998e-01,\n",
       "        -3.63052887e-02, -1.15165232e-01, -1.47493434e-01,\n",
       "        -8.92316091e-02, -2.59459470e-01, -2.23891521e-01,\n",
       "         2.13763195e-01, -3.60906371e-02],\n",
       "       [ 2.19853756e-01,  1.89591977e-01,  1.62328025e-01,\n",
       "         1.57346400e-01,  1.44606347e-01,  1.02739400e-01,\n",
       "        -9.57648415e-02,  3.74030661e-02, -6.94353667e-02,\n",
       "         3.53925445e-02, -3.72672043e-04, -5.50740871e-01,\n",
       "        -5.90384989e-01, -1.42671769e-01,  1.28301294e-01,\n",
       "        -2.25379163e-02,  3.56800027e-01],\n",
       "       [ 2.20227040e-03, -1.65097581e-02, -6.80760682e-02,\n",
       "        -8.88704326e-02, -2.76352633e-02, -5.16463458e-02,\n",
       "        -2.45333768e-02, -2.04238675e-02,  2.37310219e-01,\n",
       "         6.38604128e-01, -3.81497039e-01,  3.31663813e-03,\n",
       "         3.53819563e-02,  4.68715236e-01,  1.25611171e-02,\n",
       "        -2.31552651e-01,  3.13588215e-01],\n",
       "       [-2.83402150e-02, -1.29185319e-02, -1.52041732e-02,\n",
       "        -2.57598708e-01, -2.39198079e-01, -3.11406073e-02,\n",
       "        -9.99602946e-03,  9.42393435e-02,  9.45330546e-02,\n",
       "        -1.11136983e-01,  6.39263507e-01,  8.92642452e-02,\n",
       "         9.17842698e-02,  1.52657742e-01,  3.91648861e-01,\n",
       "        -1.50372492e-01,  4.68649048e-01],\n",
       "       [-8.99539206e-02, -1.37615449e-01, -1.44235243e-01,\n",
       "         2.89415886e-01,  3.45527370e-01, -1.08766871e-01,\n",
       "         1.23887243e-01,  1.09944753e-02,  3.89816941e-01,\n",
       "        -2.39880475e-01,  2.77411175e-01, -3.42192998e-02,\n",
       "        -9.02524016e-02,  2.42697067e-01, -5.65908139e-01,\n",
       "        -1.18830581e-01,  1.80744837e-01]])"
      ]
     },
     "execution_count": 50,
     "metadata": {},
     "output_type": "execute_result"
    }
   ],
   "source": [
    "pca.components_"
   ]
  },
  {
   "cell_type": "code",
   "execution_count": 51,
   "metadata": {},
   "outputs": [
    {
     "data": {
      "text/plain": [
       "(8, 17)"
      ]
     },
     "execution_count": 51,
     "metadata": {},
     "output_type": "execute_result"
    }
   ],
   "source": [
    "edu_pca_loading = pd.DataFrame(pca.components_,columns=list(edu_new))\n",
    "edu_pca_loading.shape"
   ]
  },
  {
   "cell_type": "code",
   "execution_count": 52,
   "metadata": {},
   "outputs": [
    {
     "data": {
      "text/html": [
       "<div>\n",
       "<style scoped>\n",
       "    .dataframe tbody tr th:only-of-type {\n",
       "        vertical-align: middle;\n",
       "    }\n",
       "\n",
       "    .dataframe tbody tr th {\n",
       "        vertical-align: top;\n",
       "    }\n",
       "\n",
       "    .dataframe thead th {\n",
       "        text-align: right;\n",
       "    }\n",
       "</style>\n",
       "<table border=\"1\" class=\"dataframe\">\n",
       "  <thead>\n",
       "    <tr style=\"text-align: right;\">\n",
       "      <th></th>\n",
       "      <th>Apps</th>\n",
       "      <th>Accept</th>\n",
       "      <th>Enroll</th>\n",
       "      <th>Top10perc</th>\n",
       "      <th>Top25perc</th>\n",
       "      <th>F.Undergrad</th>\n",
       "      <th>P.Undergrad</th>\n",
       "      <th>Outstate</th>\n",
       "      <th>Room.Board</th>\n",
       "      <th>Books</th>\n",
       "      <th>Personal</th>\n",
       "      <th>PhD</th>\n",
       "      <th>Terminal</th>\n",
       "      <th>S.F.Ratio</th>\n",
       "      <th>perc.alumni</th>\n",
       "      <th>Expend</th>\n",
       "      <th>Grad.Rate</th>\n",
       "    </tr>\n",
       "  </thead>\n",
       "  <tbody>\n",
       "    <tr>\n",
       "      <th>0</th>\n",
       "      <td>0.262230</td>\n",
       "      <td>0.230624</td>\n",
       "      <td>0.189345</td>\n",
       "      <td>0.338871</td>\n",
       "      <td>0.334694</td>\n",
       "      <td>0.163364</td>\n",
       "      <td>0.022537</td>\n",
       "      <td>0.283419</td>\n",
       "      <td>0.244165</td>\n",
       "      <td>0.096734</td>\n",
       "      <td>-0.035198</td>\n",
       "      <td>0.326418</td>\n",
       "      <td>0.323126</td>\n",
       "      <td>-0.163118</td>\n",
       "      <td>0.186578</td>\n",
       "      <td>0.328949</td>\n",
       "      <td>0.238796</td>\n",
       "    </tr>\n",
       "    <tr>\n",
       "      <th>1</th>\n",
       "      <td>0.314086</td>\n",
       "      <td>0.344579</td>\n",
       "      <td>0.382776</td>\n",
       "      <td>-0.099381</td>\n",
       "      <td>-0.059567</td>\n",
       "      <td>0.398603</td>\n",
       "      <td>0.357544</td>\n",
       "      <td>-0.251926</td>\n",
       "      <td>-0.131948</td>\n",
       "      <td>0.093949</td>\n",
       "      <td>0.232450</td>\n",
       "      <td>0.055092</td>\n",
       "      <td>0.042982</td>\n",
       "      <td>0.259837</td>\n",
       "      <td>-0.257128</td>\n",
       "      <td>-0.160080</td>\n",
       "      <td>-0.167560</td>\n",
       "    </tr>\n",
       "    <tr>\n",
       "      <th>2</th>\n",
       "      <td>-0.080996</td>\n",
       "      <td>-0.107629</td>\n",
       "      <td>-0.085522</td>\n",
       "      <td>0.078731</td>\n",
       "      <td>0.050686</td>\n",
       "      <td>-0.073699</td>\n",
       "      <td>-0.040299</td>\n",
       "      <td>-0.014779</td>\n",
       "      <td>0.021247</td>\n",
       "      <td>0.697109</td>\n",
       "      <td>0.530972</td>\n",
       "      <td>-0.081157</td>\n",
       "      <td>-0.059012</td>\n",
       "      <td>-0.274183</td>\n",
       "      <td>-0.103779</td>\n",
       "      <td>0.184231</td>\n",
       "      <td>-0.245356</td>\n",
       "    </tr>\n",
       "    <tr>\n",
       "      <th>3</th>\n",
       "      <td>0.098893</td>\n",
       "      <td>0.118256</td>\n",
       "      <td>0.009421</td>\n",
       "      <td>-0.369062</td>\n",
       "      <td>-0.416766</td>\n",
       "      <td>0.014042</td>\n",
       "      <td>0.225334</td>\n",
       "      <td>0.263127</td>\n",
       "      <td>0.580772</td>\n",
       "      <td>-0.036305</td>\n",
       "      <td>-0.115165</td>\n",
       "      <td>-0.147493</td>\n",
       "      <td>-0.089232</td>\n",
       "      <td>-0.259459</td>\n",
       "      <td>-0.223892</td>\n",
       "      <td>0.213763</td>\n",
       "      <td>-0.036091</td>\n",
       "    </tr>\n",
       "    <tr>\n",
       "      <th>4</th>\n",
       "      <td>0.219854</td>\n",
       "      <td>0.189592</td>\n",
       "      <td>0.162328</td>\n",
       "      <td>0.157346</td>\n",
       "      <td>0.144606</td>\n",
       "      <td>0.102739</td>\n",
       "      <td>-0.095765</td>\n",
       "      <td>0.037403</td>\n",
       "      <td>-0.069435</td>\n",
       "      <td>0.035393</td>\n",
       "      <td>-0.000373</td>\n",
       "      <td>-0.550741</td>\n",
       "      <td>-0.590385</td>\n",
       "      <td>-0.142672</td>\n",
       "      <td>0.128301</td>\n",
       "      <td>-0.022538</td>\n",
       "      <td>0.356800</td>\n",
       "    </tr>\n",
       "  </tbody>\n",
       "</table>\n",
       "</div>"
      ],
      "text/plain": [
       "       Apps    Accept    Enroll  Top10perc  Top25perc  F.Undergrad  \\\n",
       "0  0.262230  0.230624  0.189345   0.338871   0.334694     0.163364   \n",
       "1  0.314086  0.344579  0.382776  -0.099381  -0.059567     0.398603   \n",
       "2 -0.080996 -0.107629 -0.085522   0.078731   0.050686    -0.073699   \n",
       "3  0.098893  0.118256  0.009421  -0.369062  -0.416766     0.014042   \n",
       "4  0.219854  0.189592  0.162328   0.157346   0.144606     0.102739   \n",
       "\n",
       "   P.Undergrad  Outstate  Room.Board     Books  Personal       PhD  Terminal  \\\n",
       "0     0.022537  0.283419    0.244165  0.096734 -0.035198  0.326418  0.323126   \n",
       "1     0.357544 -0.251926   -0.131948  0.093949  0.232450  0.055092  0.042982   \n",
       "2    -0.040299 -0.014779    0.021247  0.697109  0.530972 -0.081157 -0.059012   \n",
       "3     0.225334  0.263127    0.580772 -0.036305 -0.115165 -0.147493 -0.089232   \n",
       "4    -0.095765  0.037403   -0.069435  0.035393 -0.000373 -0.550741 -0.590385   \n",
       "\n",
       "   S.F.Ratio  perc.alumni    Expend  Grad.Rate  \n",
       "0  -0.163118     0.186578  0.328949   0.238796  \n",
       "1   0.259837    -0.257128 -0.160080  -0.167560  \n",
       "2  -0.274183    -0.103779  0.184231  -0.245356  \n",
       "3  -0.259459    -0.223892  0.213763  -0.036091  \n",
       "4  -0.142672     0.128301 -0.022538   0.356800  "
      ]
     },
     "execution_count": 52,
     "metadata": {},
     "output_type": "execute_result"
    }
   ],
   "source": [
    "edu_pca_loading.head()"
   ]
  },
  {
   "cell_type": "code",
   "execution_count": 53,
   "metadata": {},
   "outputs": [],
   "source": [
    "from matplotlib.patches import Rectangle"
   ]
  },
  {
   "cell_type": "code",
   "execution_count": 54,
   "metadata": {},
   "outputs": [
    {
     "data": {
      "image/png": "[encoded data removed]",
      "text/plain": [
       "<Figure size 720x360 with 1 Axes>"
      ]
     },
     "metadata": {},
     "output_type": "display_data"
    }
   ],
   "source": [
    "fig,ax = plt.subplots(figsize=(10,5), facecolor='w', edgecolor='k')\n",
    "ax = sns.heatmap(edu_pca_loading, annot=True, vmax=1.0, vmin=0, cmap='Blues', cbar=False, fmt='.2g', ax=ax,\n",
    "                 yticklabels=['PC0','PC1','PC2','PC3','PC4','PC5','PC6','PC7'])\n",
    "\n",
    "column_max = edu_pca_loading.abs().idxmax(axis=0)\n",
    "\n",
    "for col, variable in enumerate(edu_pca_loading.columns):\n",
    "    position = edu_pca_loading.index.get_loc(column_max[variable])\n",
    "    ax.add_patch(Rectangle((col, position),1,1, fill=False, edgecolor='red', lw=3))"
   ]
  },
  {
   "cell_type": "markdown",
   "metadata": {},
   "source": [
    "## Rounding off the values upto 2 decimal values"
   ]
  },
  {
   "cell_type": "code",
   "execution_count": 55,
   "metadata": {},
   "outputs": [
    {
     "name": "stdout",
     "output_type": "stream",
     "text": [
      "\n",
      "Rounded values : \n",
      " [-26.22  31.41   8.1   -9.89 -21.99   0.22  -2.83  -9.    13.05 -15.64\n",
      "  -8.64  18.22 -59.92   8.96   8.94  54.93   0.56]\n"
     ]
    }
   ],
   "source": [
    "round_off_values = np.around(eig_vecs[0]*100, decimals = 2)\n",
    "print (\"\\nRounded values : \\n\", round_off_values)"
   ]
  },
  {
   "cell_type": "code",
   "execution_count": null,
   "metadata": {},
   "outputs": [],
   "source": []
  }
 ],
 "metadata": {
  "kernelspec": {
   "display_name": "Python 3",
   "language": "python",
   "name": "python3"
  },
  "language_info": {
   "codemirror_mode": {
    "name": "ipython",
    "version": 3
   },
   "file_extension": ".py",
   "mimetype": "text/x-python",
   "name": "python",
   "nbconvert_exporter": "python",
   "pygments_lexer": "ipython3",
   "version": "3.8.5"
  }
 },
 "nbformat": 4,
 "nbformat_minor": 4
}
